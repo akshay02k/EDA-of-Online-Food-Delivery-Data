{
 "cells": [
  {
   "cell_type": "markdown",
   "metadata": {
    "colab_type": "text",
    "id": "dBV2JLd1ALQH"
   },
   "source": [
    "##Loading The Data"
   ]
  },
  {
   "cell_type": "code",
   "execution_count": 1,
   "metadata": {
    "colab": {},
    "colab_type": "code",
    "id": "lDkaeJm_j1R0"
   },
   "outputs": [],
   "source": [
    "#Importing necessary libraries\n",
    "import pandas as pd\n",
    "import numpy as np\n",
    "import re\n",
    "from tqdm import tqdm"
   ]
  },
  {
   "cell_type": "markdown",
   "metadata": {
    "colab_type": "text",
    "id": "iPqcGP9PQqnC"
   },
   "source": [
    "We will now load the datasets using pandas by mentioning the path to the files residing in the drive as given below."
   ]
  },
  {
   "cell_type": "code",
   "execution_count": 2,
   "metadata": {
    "colab": {},
    "colab_type": "code",
    "id": "dqndqEBzjReJ"
   },
   "outputs": [],
   "source": [
    "train = pd.read_csv(\"train_dataset.csv\")\n",
    "test = pd.read_csv(\"test_dataset.csv\")"
   ]
  },
  {
   "cell_type": "markdown",
   "metadata": {
    "colab_type": "text",
    "id": "UceqrG8LAFr_"
   },
   "source": [
    "##Dataset Features"
   ]
  },
  {
   "cell_type": "markdown",
   "metadata": {
    "colab_type": "text",
    "id": "5L36MM2DRJNz"
   },
   "source": [
    "Before proceeding any further,lets have a look at the dataset and its basic features.\n"
   ]
  },
  {
   "cell_type": "markdown",
   "metadata": {
    "colab_type": "text",
    "id": "kRIwn_yRAJVE"
   },
   "source": [
    "####Trainig Data"
   ]
  },
  {
   "cell_type": "code",
   "execution_count": 3,
   "metadata": {
    "colab": {
     "base_uri": "https://localhost:8080/",
     "height": 34
    },
    "colab_type": "code",
    "id": "PkH-VCvOj0Ai",
    "outputId": "759ff486-bc6c-43f3-94b2-c738db6da673"
   },
   "outputs": [
    {
     "data": {
      "text/plain": [
       "(8875, 9)"
      ]
     },
     "execution_count": 3,
     "metadata": {},
     "output_type": "execute_result"
    }
   ],
   "source": [
    "train.shape"
   ]
  },
  {
   "cell_type": "code",
   "execution_count": 4,
   "metadata": {
    "colab": {
     "base_uri": "https://localhost:8080/",
     "height": 70
    },
    "colab_type": "code",
    "id": "Fi1vTZOjRT_2",
    "outputId": "23b8b728-444c-4a09-982d-2c4ce137cee6"
   },
   "outputs": [
    {
     "data": {
      "text/plain": [
       "Index(['Restaurant', 'Location', 'Cuisines', 'Average_Cost', 'Minimum_Order',\n",
       "       'Rating', 'Votes', 'Reviews', 'Delivery_Time'],\n",
       "      dtype='object')"
      ]
     },
     "execution_count": 4,
     "metadata": {},
     "output_type": "execute_result"
    }
   ],
   "source": [
    "train.columns"
   ]
  },
  {
   "cell_type": "code",
   "execution_count": 5,
   "metadata": {
    "colab": {
     "base_uri": "https://localhost:8080/",
     "height": 212
    },
    "colab_type": "code",
    "id": "S-u0Y6aHlRmn",
    "outputId": "cd0756ed-35d5-4779-f98d-8019906e71d8"
   },
   "outputs": [
    {
     "data": {
      "text/html": [
       "<div>\n",
       "<style scoped>\n",
       "    .dataframe tbody tr th:only-of-type {\n",
       "        vertical-align: middle;\n",
       "    }\n",
       "\n",
       "    .dataframe tbody tr th {\n",
       "        vertical-align: top;\n",
       "    }\n",
       "\n",
       "    .dataframe thead th {\n",
       "        text-align: right;\n",
       "    }\n",
       "</style>\n",
       "<table border=\"1\" class=\"dataframe\">\n",
       "  <thead>\n",
       "    <tr style=\"text-align: right;\">\n",
       "      <th></th>\n",
       "      <th>Restaurant</th>\n",
       "      <th>Location</th>\n",
       "      <th>Cuisines</th>\n",
       "      <th>Average_Cost</th>\n",
       "      <th>Minimum_Order</th>\n",
       "      <th>Rating</th>\n",
       "      <th>Votes</th>\n",
       "      <th>Reviews</th>\n",
       "      <th>Delivery_Time</th>\n",
       "    </tr>\n",
       "  </thead>\n",
       "  <tbody>\n",
       "    <tr>\n",
       "      <th>0</th>\n",
       "      <td>ID_3744</td>\n",
       "      <td>Dockyard Road, Mumbai CST Area</td>\n",
       "      <td>Fast Food, Chinese</td>\n",
       "      <td>₹200</td>\n",
       "      <td>₹50</td>\n",
       "      <td>3.8</td>\n",
       "      <td>91</td>\n",
       "      <td>44</td>\n",
       "      <td>45 minutes</td>\n",
       "    </tr>\n",
       "    <tr>\n",
       "      <th>1</th>\n",
       "      <td>ID_5984</td>\n",
       "      <td>Delhi Cantt.</td>\n",
       "      <td>North Indian</td>\n",
       "      <td>₹100</td>\n",
       "      <td>₹50</td>\n",
       "      <td>2.9</td>\n",
       "      <td>37</td>\n",
       "      <td>16</td>\n",
       "      <td>30 minutes</td>\n",
       "    </tr>\n",
       "    <tr>\n",
       "      <th>2</th>\n",
       "      <td>ID_13</td>\n",
       "      <td>MG Road, Pune</td>\n",
       "      <td>Continental, North Indian, Seafood, Cafe, Sala...</td>\n",
       "      <td>₹650</td>\n",
       "      <td>₹50</td>\n",
       "      <td>4.1</td>\n",
       "      <td>3860</td>\n",
       "      <td>1962</td>\n",
       "      <td>45 minutes</td>\n",
       "    </tr>\n",
       "    <tr>\n",
       "      <th>3</th>\n",
       "      <td>ID_643</td>\n",
       "      <td>Delhi Administration Flats, Timarpur</td>\n",
       "      <td>Naga</td>\n",
       "      <td>₹250</td>\n",
       "      <td>₹50</td>\n",
       "      <td>3.9</td>\n",
       "      <td>313</td>\n",
       "      <td>119</td>\n",
       "      <td>45 minutes</td>\n",
       "    </tr>\n",
       "    <tr>\n",
       "      <th>4</th>\n",
       "      <td>ID_5754</td>\n",
       "      <td>Pune University</td>\n",
       "      <td>Pizza, Fast Food</td>\n",
       "      <td>₹200</td>\n",
       "      <td>₹50</td>\n",
       "      <td>3.3</td>\n",
       "      <td>86</td>\n",
       "      <td>48</td>\n",
       "      <td>45 minutes</td>\n",
       "    </tr>\n",
       "  </tbody>\n",
       "</table>\n",
       "</div>"
      ],
      "text/plain": [
       "  Restaurant                              Location  \\\n",
       "0    ID_3744        Dockyard Road, Mumbai CST Area   \n",
       "1    ID_5984                          Delhi Cantt.   \n",
       "2      ID_13                         MG Road, Pune   \n",
       "3     ID_643  Delhi Administration Flats, Timarpur   \n",
       "4    ID_5754                       Pune University   \n",
       "\n",
       "                                            Cuisines Average_Cost  \\\n",
       "0                                 Fast Food, Chinese         ₹200   \n",
       "1                                       North Indian         ₹100   \n",
       "2  Continental, North Indian, Seafood, Cafe, Sala...         ₹650   \n",
       "3                                               Naga         ₹250   \n",
       "4                                   Pizza, Fast Food         ₹200   \n",
       "\n",
       "  Minimum_Order Rating Votes Reviews Delivery_Time  \n",
       "0           ₹50    3.8    91      44    45 minutes  \n",
       "1           ₹50    2.9    37      16    30 minutes  \n",
       "2           ₹50    4.1  3860    1962    45 minutes  \n",
       "3           ₹50    3.9   313     119    45 minutes  \n",
       "4           ₹50    3.3    86      48    45 minutes  "
      ]
     },
     "execution_count": 5,
     "metadata": {},
     "output_type": "execute_result"
    }
   ],
   "source": [
    "train.head()"
   ]
  },
  {
   "cell_type": "code",
   "execution_count": 6,
   "metadata": {
    "colab": {
     "base_uri": "https://localhost:8080/",
     "height": 193
    },
    "colab_type": "code",
    "id": "zg-AtOlZ_nRZ",
    "outputId": "ce38df63-b396-42dd-8326-3e76ef944e7a"
   },
   "outputs": [
    {
     "data": {
      "text/plain": [
       "Restaurant       0\n",
       "Location         0\n",
       "Cuisines         0\n",
       "Average_Cost     0\n",
       "Minimum_Order    0\n",
       "Rating           0\n",
       "Votes            0\n",
       "Reviews          0\n",
       "Delivery_Time    0\n",
       "dtype: int64"
      ]
     },
     "execution_count": 6,
     "metadata": {},
     "output_type": "execute_result"
    }
   ],
   "source": [
    "train.isnull().sum()"
   ]
  },
  {
   "cell_type": "code",
   "execution_count": 7,
   "metadata": {
    "colab": {
     "base_uri": "https://localhost:8080/",
     "height": 166
    },
    "colab_type": "code",
    "id": "MDc0ws0igEqr",
    "outputId": "5aa3fe3f-fcc0-47a6-f70d-f14a6fcf59d1"
   },
   "outputs": [
    {
     "data": {
      "text/html": [
       "<div>\n",
       "<style scoped>\n",
       "    .dataframe tbody tr th:only-of-type {\n",
       "        vertical-align: middle;\n",
       "    }\n",
       "\n",
       "    .dataframe tbody tr th {\n",
       "        vertical-align: top;\n",
       "    }\n",
       "\n",
       "    .dataframe thead th {\n",
       "        text-align: right;\n",
       "    }\n",
       "</style>\n",
       "<table border=\"1\" class=\"dataframe\">\n",
       "  <thead>\n",
       "    <tr style=\"text-align: right;\">\n",
       "      <th></th>\n",
       "      <th>Restaurant</th>\n",
       "      <th>Location</th>\n",
       "      <th>Cuisines</th>\n",
       "      <th>Average_Cost</th>\n",
       "      <th>Minimum_Order</th>\n",
       "      <th>Rating</th>\n",
       "      <th>Votes</th>\n",
       "      <th>Reviews</th>\n",
       "      <th>Delivery_Time</th>\n",
       "    </tr>\n",
       "  </thead>\n",
       "  <tbody>\n",
       "    <tr>\n",
       "      <th>count</th>\n",
       "      <td>8875</td>\n",
       "      <td>8875</td>\n",
       "      <td>8875</td>\n",
       "      <td>8875</td>\n",
       "      <td>8875</td>\n",
       "      <td>8875</td>\n",
       "      <td>8875</td>\n",
       "      <td>8875</td>\n",
       "      <td>8875</td>\n",
       "    </tr>\n",
       "    <tr>\n",
       "      <th>unique</th>\n",
       "      <td>6363</td>\n",
       "      <td>35</td>\n",
       "      <td>1920</td>\n",
       "      <td>23</td>\n",
       "      <td>15</td>\n",
       "      <td>33</td>\n",
       "      <td>1024</td>\n",
       "      <td>711</td>\n",
       "      <td>7</td>\n",
       "    </tr>\n",
       "    <tr>\n",
       "      <th>top</th>\n",
       "      <td>ID_4625</td>\n",
       "      <td>Mico Layout, Stage 2, BTM Layout,Bangalore</td>\n",
       "      <td>North Indian</td>\n",
       "      <td>₹200</td>\n",
       "      <td>₹50</td>\n",
       "      <td>-</td>\n",
       "      <td>-</td>\n",
       "      <td>-</td>\n",
       "      <td>30 minutes</td>\n",
       "    </tr>\n",
       "    <tr>\n",
       "      <th>freq</th>\n",
       "      <td>16</td>\n",
       "      <td>753</td>\n",
       "      <td>681</td>\n",
       "      <td>2594</td>\n",
       "      <td>8115</td>\n",
       "      <td>961</td>\n",
       "      <td>1676</td>\n",
       "      <td>1859</td>\n",
       "      <td>5919</td>\n",
       "    </tr>\n",
       "  </tbody>\n",
       "</table>\n",
       "</div>"
      ],
      "text/plain": [
       "       Restaurant                                    Location      Cuisines  \\\n",
       "count        8875                                        8875          8875   \n",
       "unique       6363                                          35          1920   \n",
       "top       ID_4625  Mico Layout, Stage 2, BTM Layout,Bangalore  North Indian   \n",
       "freq           16                                         753           681   \n",
       "\n",
       "       Average_Cost Minimum_Order Rating Votes Reviews Delivery_Time  \n",
       "count          8875          8875   8875  8875    8875          8875  \n",
       "unique           23            15     33  1024     711             7  \n",
       "top            ₹200           ₹50      -     -       -    30 minutes  \n",
       "freq           2594          8115    961  1676    1859          5919  "
      ]
     },
     "execution_count": 7,
     "metadata": {},
     "output_type": "execute_result"
    }
   ],
   "source": [
    "train.describe(include = 'all')"
   ]
  },
  {
   "cell_type": "code",
   "execution_count": 8,
   "metadata": {
    "colab": {
     "base_uri": "https://localhost:8080/",
     "height": 263
    },
    "colab_type": "code",
    "id": "nnlbbxSa_75y",
    "outputId": "0aec9ce2-29aa-4830-a824-9ff6be9d7fe1"
   },
   "outputs": [
    {
     "name": "stdout",
     "output_type": "stream",
     "text": [
      "<class 'pandas.core.frame.DataFrame'>\n",
      "RangeIndex: 8875 entries, 0 to 8874\n",
      "Data columns (total 9 columns):\n",
      " #   Column         Non-Null Count  Dtype \n",
      "---  ------         --------------  ----- \n",
      " 0   Restaurant     8875 non-null   object\n",
      " 1   Location       8875 non-null   object\n",
      " 2   Cuisines       8875 non-null   object\n",
      " 3   Average_Cost   8875 non-null   object\n",
      " 4   Minimum_Order  8875 non-null   object\n",
      " 5   Rating         8875 non-null   object\n",
      " 6   Votes          8875 non-null   object\n",
      " 7   Reviews        8875 non-null   object\n",
      " 8   Delivery_Time  8875 non-null   object\n",
      "dtypes: object(9)\n",
      "memory usage: 624.2+ KB\n"
     ]
    }
   ],
   "source": [
    "train.info()"
   ]
  },
  {
   "cell_type": "markdown",
   "metadata": {
    "colab_type": "text",
    "id": "ucWulRUiAaO-"
   },
   "source": [
    "####Test Data"
   ]
  },
  {
   "cell_type": "code",
   "execution_count": 9,
   "metadata": {
    "colab": {
     "base_uri": "https://localhost:8080/",
     "height": 34
    },
    "colab_type": "code",
    "id": "R2hWiEHllP7D",
    "outputId": "2cc14f44-2891-45db-d628-731b7a2c3735"
   },
   "outputs": [
    {
     "data": {
      "text/plain": [
       "(2219, 8)"
      ]
     },
     "execution_count": 9,
     "metadata": {},
     "output_type": "execute_result"
    }
   ],
   "source": [
    "test.shape"
   ]
  },
  {
   "cell_type": "code",
   "execution_count": 10,
   "metadata": {
    "colab": {
     "base_uri": "https://localhost:8080/",
     "height": 70
    },
    "colab_type": "code",
    "id": "ECOLxRPMRaZa",
    "outputId": "cb7f2c23-87f2-403f-dcdc-f7f3a0eed6f8"
   },
   "outputs": [
    {
     "data": {
      "text/plain": [
       "Index(['Restaurant', 'Location', 'Cuisines', 'Average_Cost', 'Minimum_Order',\n",
       "       'Rating', 'Votes', 'Reviews'],\n",
       "      dtype='object')"
      ]
     },
     "execution_count": 10,
     "metadata": {},
     "output_type": "execute_result"
    }
   ],
   "source": [
    "test.columns"
   ]
  },
  {
   "cell_type": "code",
   "execution_count": 11,
   "metadata": {
    "colab": {
     "base_uri": "https://localhost:8080/",
     "height": 246
    },
    "colab_type": "code",
    "id": "kA709EfflT1M",
    "outputId": "01b2d687-4f67-4bf8-8625-e51a6e6df5fa"
   },
   "outputs": [
    {
     "data": {
      "text/html": [
       "<div>\n",
       "<style scoped>\n",
       "    .dataframe tbody tr th:only-of-type {\n",
       "        vertical-align: middle;\n",
       "    }\n",
       "\n",
       "    .dataframe tbody tr th {\n",
       "        vertical-align: top;\n",
       "    }\n",
       "\n",
       "    .dataframe thead th {\n",
       "        text-align: right;\n",
       "    }\n",
       "</style>\n",
       "<table border=\"1\" class=\"dataframe\">\n",
       "  <thead>\n",
       "    <tr style=\"text-align: right;\">\n",
       "      <th></th>\n",
       "      <th>Restaurant</th>\n",
       "      <th>Location</th>\n",
       "      <th>Cuisines</th>\n",
       "      <th>Average_Cost</th>\n",
       "      <th>Minimum_Order</th>\n",
       "      <th>Rating</th>\n",
       "      <th>Votes</th>\n",
       "      <th>Reviews</th>\n",
       "    </tr>\n",
       "  </thead>\n",
       "  <tbody>\n",
       "    <tr>\n",
       "      <th>0</th>\n",
       "      <td>ID_3190</td>\n",
       "      <td>Dockyard Road, Mumbai CST Area</td>\n",
       "      <td>Fast Food</td>\n",
       "      <td>₹100</td>\n",
       "      <td>₹50</td>\n",
       "      <td>-</td>\n",
       "      <td>-</td>\n",
       "      <td>-</td>\n",
       "    </tr>\n",
       "    <tr>\n",
       "      <th>1</th>\n",
       "      <td>ID_4249</td>\n",
       "      <td>Mico Layout, Stage 2, BTM Layout,Bangalore</td>\n",
       "      <td>Beverages, Street Food</td>\n",
       "      <td>₹100</td>\n",
       "      <td>₹50</td>\n",
       "      <td>3.3</td>\n",
       "      <td>4</td>\n",
       "      <td>3</td>\n",
       "    </tr>\n",
       "    <tr>\n",
       "      <th>2</th>\n",
       "      <td>ID_6657</td>\n",
       "      <td>Tejas Nagar Colony, Wadala West, Mumbai</td>\n",
       "      <td>South Indian</td>\n",
       "      <td>₹200</td>\n",
       "      <td>₹50</td>\n",
       "      <td>3.2</td>\n",
       "      <td>12</td>\n",
       "      <td>4</td>\n",
       "    </tr>\n",
       "    <tr>\n",
       "      <th>3</th>\n",
       "      <td>ID_2879</td>\n",
       "      <td>Dockyard Road, Mumbai CST Area</td>\n",
       "      <td>South Indian, North Indian, Fast Food</td>\n",
       "      <td>₹200</td>\n",
       "      <td>₹50</td>\n",
       "      <td>3.7</td>\n",
       "      <td>182</td>\n",
       "      <td>107</td>\n",
       "    </tr>\n",
       "    <tr>\n",
       "      <th>4</th>\n",
       "      <td>ID_3638</td>\n",
       "      <td>Majestic</td>\n",
       "      <td>Raw Meats, Naga</td>\n",
       "      <td>₹100</td>\n",
       "      <td>₹50</td>\n",
       "      <td>3.6</td>\n",
       "      <td>19</td>\n",
       "      <td>7</td>\n",
       "    </tr>\n",
       "  </tbody>\n",
       "</table>\n",
       "</div>"
      ],
      "text/plain": [
       "  Restaurant                                    Location  \\\n",
       "0    ID_3190              Dockyard Road, Mumbai CST Area   \n",
       "1    ID_4249  Mico Layout, Stage 2, BTM Layout,Bangalore   \n",
       "2    ID_6657     Tejas Nagar Colony, Wadala West, Mumbai   \n",
       "3    ID_2879              Dockyard Road, Mumbai CST Area   \n",
       "4    ID_3638                                    Majestic   \n",
       "\n",
       "                                Cuisines Average_Cost Minimum_Order Rating  \\\n",
       "0                              Fast Food         ₹100           ₹50      -   \n",
       "1                 Beverages, Street Food         ₹100           ₹50    3.3   \n",
       "2                           South Indian         ₹200           ₹50    3.2   \n",
       "3  South Indian, North Indian, Fast Food         ₹200           ₹50    3.7   \n",
       "4                        Raw Meats, Naga         ₹100           ₹50    3.6   \n",
       "\n",
       "  Votes Reviews  \n",
       "0     -       -  \n",
       "1     4       3  \n",
       "2    12       4  \n",
       "3   182     107  \n",
       "4    19       7  "
      ]
     },
     "execution_count": 11,
     "metadata": {},
     "output_type": "execute_result"
    }
   ],
   "source": [
    "test.head()"
   ]
  },
  {
   "cell_type": "code",
   "execution_count": 12,
   "metadata": {
    "colab": {
     "base_uri": "https://localhost:8080/",
     "height": 175
    },
    "colab_type": "code",
    "id": "cV8c6gTx_y1_",
    "outputId": "e94f2fab-3dac-409d-e606-43c821b6a856"
   },
   "outputs": [
    {
     "data": {
      "text/plain": [
       "Restaurant       0\n",
       "Location         0\n",
       "Cuisines         0\n",
       "Average_Cost     0\n",
       "Minimum_Order    0\n",
       "Rating           0\n",
       "Votes            0\n",
       "Reviews          0\n",
       "dtype: int64"
      ]
     },
     "execution_count": 12,
     "metadata": {},
     "output_type": "execute_result"
    }
   ],
   "source": [
    "test.isnull().sum()"
   ]
  },
  {
   "cell_type": "code",
   "execution_count": 13,
   "metadata": {
    "colab": {
     "base_uri": "https://localhost:8080/",
     "height": 246
    },
    "colab_type": "code",
    "id": "vMQHK61o___h",
    "outputId": "4d193f79-5c5a-4cd7-a6f7-24c27243470b"
   },
   "outputs": [
    {
     "name": "stdout",
     "output_type": "stream",
     "text": [
      "<class 'pandas.core.frame.DataFrame'>\n",
      "RangeIndex: 2219 entries, 0 to 2218\n",
      "Data columns (total 8 columns):\n",
      " #   Column         Non-Null Count  Dtype \n",
      "---  ------         --------------  ----- \n",
      " 0   Restaurant     2219 non-null   object\n",
      " 1   Location       2219 non-null   object\n",
      " 2   Cuisines       2219 non-null   object\n",
      " 3   Average_Cost   2219 non-null   object\n",
      " 4   Minimum_Order  2219 non-null   object\n",
      " 5   Rating         2219 non-null   object\n",
      " 6   Votes          2219 non-null   object\n",
      " 7   Reviews        2219 non-null   object\n",
      "dtypes: object(8)\n",
      "memory usage: 138.8+ KB\n"
     ]
    }
   ],
   "source": [
    "test.info()"
   ]
  },
  {
   "cell_type": "code",
   "execution_count": 14,
   "metadata": {
    "colab": {
     "base_uri": "https://localhost:8080/",
     "height": 166
    },
    "colab_type": "code",
    "id": "mIMWYFUDAgAv",
    "outputId": "e3622044-761f-4c5d-9cd0-13a944efea55"
   },
   "outputs": [
    {
     "data": {
      "text/html": [
       "<div>\n",
       "<style scoped>\n",
       "    .dataframe tbody tr th:only-of-type {\n",
       "        vertical-align: middle;\n",
       "    }\n",
       "\n",
       "    .dataframe tbody tr th {\n",
       "        vertical-align: top;\n",
       "    }\n",
       "\n",
       "    .dataframe thead th {\n",
       "        text-align: right;\n",
       "    }\n",
       "</style>\n",
       "<table border=\"1\" class=\"dataframe\">\n",
       "  <thead>\n",
       "    <tr style=\"text-align: right;\">\n",
       "      <th></th>\n",
       "      <th>Restaurant</th>\n",
       "      <th>Location</th>\n",
       "      <th>Cuisines</th>\n",
       "      <th>Average_Cost</th>\n",
       "      <th>Minimum_Order</th>\n",
       "      <th>Rating</th>\n",
       "      <th>Votes</th>\n",
       "      <th>Reviews</th>\n",
       "    </tr>\n",
       "  </thead>\n",
       "  <tbody>\n",
       "    <tr>\n",
       "      <th>count</th>\n",
       "      <td>2219</td>\n",
       "      <td>2219</td>\n",
       "      <td>2219</td>\n",
       "      <td>2219</td>\n",
       "      <td>2219</td>\n",
       "      <td>2219</td>\n",
       "      <td>2219</td>\n",
       "      <td>2219</td>\n",
       "    </tr>\n",
       "    <tr>\n",
       "      <th>unique</th>\n",
       "      <td>1974</td>\n",
       "      <td>35</td>\n",
       "      <td>757</td>\n",
       "      <td>23</td>\n",
       "      <td>11</td>\n",
       "      <td>30</td>\n",
       "      <td>508</td>\n",
       "      <td>358</td>\n",
       "    </tr>\n",
       "    <tr>\n",
       "      <th>top</th>\n",
       "      <td>ID_7184</td>\n",
       "      <td>Mico Layout, Stage 2, BTM Layout,Bangalore</td>\n",
       "      <td>North Indian</td>\n",
       "      <td>₹200</td>\n",
       "      <td>₹50</td>\n",
       "      <td>-</td>\n",
       "      <td>-</td>\n",
       "      <td>-</td>\n",
       "    </tr>\n",
       "    <tr>\n",
       "      <th>freq</th>\n",
       "      <td>7</td>\n",
       "      <td>194</td>\n",
       "      <td>169</td>\n",
       "      <td>647</td>\n",
       "      <td>2003</td>\n",
       "      <td>230</td>\n",
       "      <td>398</td>\n",
       "      <td>453</td>\n",
       "    </tr>\n",
       "  </tbody>\n",
       "</table>\n",
       "</div>"
      ],
      "text/plain": [
       "       Restaurant                                    Location      Cuisines  \\\n",
       "count        2219                                        2219          2219   \n",
       "unique       1974                                          35           757   \n",
       "top       ID_7184  Mico Layout, Stage 2, BTM Layout,Bangalore  North Indian   \n",
       "freq            7                                         194           169   \n",
       "\n",
       "       Average_Cost Minimum_Order Rating Votes Reviews  \n",
       "count          2219          2219   2219  2219    2219  \n",
       "unique           23            11     30   508     358  \n",
       "top            ₹200           ₹50      -     -       -  \n",
       "freq            647          2003    230   398     453  "
      ]
     },
     "execution_count": 14,
     "metadata": {},
     "output_type": "execute_result"
    }
   ],
   "source": [
    "test.describe(include = 'all')"
   ]
  },
  {
   "cell_type": "markdown",
   "metadata": {
    "colab_type": "text",
    "id": "_YYJ_HI9A1qg"
   },
   "source": [
    "##Data Cleaning"
   ]
  },
  {
   "cell_type": "markdown",
   "metadata": {
    "colab_type": "text",
    "id": "yyJYTvr8RjwO"
   },
   "source": [
    "We will consider the following features of training and test datasets. Here I have grouped the columns based on similarity of values which will make it easy for cleaning.\n",
    "\n",
    "* Cleaning Average_Cost & Minimum_order columns to remove special characters and make them float variables.\n",
    "* Location & Cuisines are categoriacal variables that needs to be cleaned before encoding.\n",
    "* Rating, Votes & Reviews needs to be cleaned and converted to respective types.\n",
    "\n",
    "We will delve deeper in the coming sections.\n",
    "\n"
   ]
  },
  {
   "cell_type": "markdown",
   "metadata": {
    "colab_type": "text",
    "id": "pwjvNSkCBLC6"
   },
   "source": [
    "####Average_Cost\t& Minimum_order"
   ]
  },
  {
   "cell_type": "code",
   "execution_count": 15,
   "metadata": {
    "colab": {
     "base_uri": "https://localhost:8080/",
     "height": 212
    },
    "colab_type": "code",
    "id": "sRsfJuPbkW3C",
    "outputId": "5d4d76d9-13fc-4698-b5da-7fb1cc145eaa"
   },
   "outputs": [
    {
     "data": {
      "text/html": [
       "<div>\n",
       "<style scoped>\n",
       "    .dataframe tbody tr th:only-of-type {\n",
       "        vertical-align: middle;\n",
       "    }\n",
       "\n",
       "    .dataframe tbody tr th {\n",
       "        vertical-align: top;\n",
       "    }\n",
       "\n",
       "    .dataframe thead th {\n",
       "        text-align: right;\n",
       "    }\n",
       "</style>\n",
       "<table border=\"1\" class=\"dataframe\">\n",
       "  <thead>\n",
       "    <tr style=\"text-align: right;\">\n",
       "      <th></th>\n",
       "      <th>Restaurant</th>\n",
       "      <th>Location</th>\n",
       "      <th>Cuisines</th>\n",
       "      <th>Average_Cost</th>\n",
       "      <th>Minimum_Order</th>\n",
       "      <th>Rating</th>\n",
       "      <th>Votes</th>\n",
       "      <th>Reviews</th>\n",
       "      <th>Delivery_Time</th>\n",
       "    </tr>\n",
       "  </thead>\n",
       "  <tbody>\n",
       "    <tr>\n",
       "      <th>0</th>\n",
       "      <td>ID_3744</td>\n",
       "      <td>Dockyard Road, Mumbai CST Area</td>\n",
       "      <td>Fast Food, Chinese</td>\n",
       "      <td>₹200</td>\n",
       "      <td>₹50</td>\n",
       "      <td>3.8</td>\n",
       "      <td>91</td>\n",
       "      <td>44</td>\n",
       "      <td>45 minutes</td>\n",
       "    </tr>\n",
       "    <tr>\n",
       "      <th>1</th>\n",
       "      <td>ID_5984</td>\n",
       "      <td>Delhi Cantt.</td>\n",
       "      <td>North Indian</td>\n",
       "      <td>₹100</td>\n",
       "      <td>₹50</td>\n",
       "      <td>2.9</td>\n",
       "      <td>37</td>\n",
       "      <td>16</td>\n",
       "      <td>30 minutes</td>\n",
       "    </tr>\n",
       "    <tr>\n",
       "      <th>2</th>\n",
       "      <td>ID_13</td>\n",
       "      <td>MG Road, Pune</td>\n",
       "      <td>Continental, North Indian, Seafood, Cafe, Sala...</td>\n",
       "      <td>₹650</td>\n",
       "      <td>₹50</td>\n",
       "      <td>4.1</td>\n",
       "      <td>3860</td>\n",
       "      <td>1962</td>\n",
       "      <td>45 minutes</td>\n",
       "    </tr>\n",
       "    <tr>\n",
       "      <th>3</th>\n",
       "      <td>ID_643</td>\n",
       "      <td>Delhi Administration Flats, Timarpur</td>\n",
       "      <td>Naga</td>\n",
       "      <td>₹250</td>\n",
       "      <td>₹50</td>\n",
       "      <td>3.9</td>\n",
       "      <td>313</td>\n",
       "      <td>119</td>\n",
       "      <td>45 minutes</td>\n",
       "    </tr>\n",
       "    <tr>\n",
       "      <th>4</th>\n",
       "      <td>ID_5754</td>\n",
       "      <td>Pune University</td>\n",
       "      <td>Pizza, Fast Food</td>\n",
       "      <td>₹200</td>\n",
       "      <td>₹50</td>\n",
       "      <td>3.3</td>\n",
       "      <td>86</td>\n",
       "      <td>48</td>\n",
       "      <td>45 minutes</td>\n",
       "    </tr>\n",
       "  </tbody>\n",
       "</table>\n",
       "</div>"
      ],
      "text/plain": [
       "  Restaurant                              Location  \\\n",
       "0    ID_3744        Dockyard Road, Mumbai CST Area   \n",
       "1    ID_5984                          Delhi Cantt.   \n",
       "2      ID_13                         MG Road, Pune   \n",
       "3     ID_643  Delhi Administration Flats, Timarpur   \n",
       "4    ID_5754                       Pune University   \n",
       "\n",
       "                                            Cuisines Average_Cost  \\\n",
       "0                                 Fast Food, Chinese         ₹200   \n",
       "1                                       North Indian         ₹100   \n",
       "2  Continental, North Indian, Seafood, Cafe, Sala...         ₹650   \n",
       "3                                               Naga         ₹250   \n",
       "4                                   Pizza, Fast Food         ₹200   \n",
       "\n",
       "  Minimum_Order Rating Votes Reviews Delivery_Time  \n",
       "0           ₹50    3.8    91      44    45 minutes  \n",
       "1           ₹50    2.9    37      16    30 minutes  \n",
       "2           ₹50    4.1  3860    1962    45 minutes  \n",
       "3           ₹50    3.9   313     119    45 minutes  \n",
       "4           ₹50    3.3    86      48    45 minutes  "
      ]
     },
     "execution_count": 15,
     "metadata": {},
     "output_type": "execute_result"
    }
   ],
   "source": [
    "train.head()"
   ]
  },
  {
   "cell_type": "code",
   "execution_count": 16,
   "metadata": {
    "colab": {
     "base_uri": "https://localhost:8080/",
     "height": 87
    },
    "colab_type": "code",
    "id": "tqNZCFbcm15K",
    "outputId": "b5e11455-3f89-45eb-d1c3-8cb72f9da28d"
   },
   "outputs": [
    {
     "data": {
      "text/plain": [
       "array(['₹200', '₹100', '₹650', '₹250', '₹400', '₹150', '₹50', '₹600',\n",
       "       '₹300', '₹350', '₹500', '₹450', '₹850', '₹750', '₹1,000', '₹700',\n",
       "       '₹800', '₹550', '₹1,200', '₹900', 'for', '₹950', '₹1,150'],\n",
       "      dtype=object)"
      ]
     },
     "execution_count": 16,
     "metadata": {},
     "output_type": "execute_result"
    }
   ],
   "source": [
    "#Finding the unique values in Average_Cost\n",
    "train['Average_Cost'].unique()"
   ]
  },
  {
   "cell_type": "markdown",
   "metadata": {
    "colab_type": "text",
    "id": "XCtKvvfUTRqn"
   },
   "source": [
    "The Average_Cost has an invalid value in one of its rows. We will replace it with 200 which is the most frequent value in the column.(Check the train.describe() method). We will add 200 as a string and not as an integer as the column is of type object and all its values are strings."
   ]
  },
  {
   "cell_type": "code",
   "execution_count": 17,
   "metadata": {
    "colab": {
     "base_uri": "https://localhost:8080/",
     "height": 77
    },
    "colab_type": "code",
    "id": "9eFmcCodty24",
    "outputId": "9f9ce5b8-b4c3-450a-f084-1eca31c7bfdf"
   },
   "outputs": [
    {
     "data": {
      "text/html": [
       "<div>\n",
       "<style scoped>\n",
       "    .dataframe tbody tr th:only-of-type {\n",
       "        vertical-align: middle;\n",
       "    }\n",
       "\n",
       "    .dataframe tbody tr th {\n",
       "        vertical-align: top;\n",
       "    }\n",
       "\n",
       "    .dataframe thead th {\n",
       "        text-align: right;\n",
       "    }\n",
       "</style>\n",
       "<table border=\"1\" class=\"dataframe\">\n",
       "  <thead>\n",
       "    <tr style=\"text-align: right;\">\n",
       "      <th></th>\n",
       "      <th>Restaurant</th>\n",
       "      <th>Location</th>\n",
       "      <th>Cuisines</th>\n",
       "      <th>Average_Cost</th>\n",
       "      <th>Minimum_Order</th>\n",
       "      <th>Rating</th>\n",
       "      <th>Votes</th>\n",
       "      <th>Reviews</th>\n",
       "      <th>Delivery_Time</th>\n",
       "    </tr>\n",
       "  </thead>\n",
       "  <tbody>\n",
       "    <tr>\n",
       "      <th>2102</th>\n",
       "      <td>ID_6472</td>\n",
       "      <td>Pune University</td>\n",
       "      <td>Fast Food</td>\n",
       "      <td>for</td>\n",
       "      <td>₹50</td>\n",
       "      <td>NEW</td>\n",
       "      <td>-</td>\n",
       "      <td>-</td>\n",
       "      <td>30 minutes</td>\n",
       "    </tr>\n",
       "  </tbody>\n",
       "</table>\n",
       "</div>"
      ],
      "text/plain": [
       "     Restaurant         Location   Cuisines Average_Cost Minimum_Order Rating  \\\n",
       "2102    ID_6472  Pune University  Fast Food          for           ₹50    NEW   \n",
       "\n",
       "     Votes Reviews Delivery_Time  \n",
       "2102     -       -    30 minutes  "
      ]
     },
     "execution_count": 17,
     "metadata": {},
     "output_type": "execute_result"
    }
   ],
   "source": [
    "train[train['Average_Cost'] == 'for']"
   ]
  },
  {
   "cell_type": "code",
   "execution_count": 18,
   "metadata": {
    "colab": {},
    "colab_type": "code",
    "id": "YxAdTpeojHJF"
   },
   "outputs": [],
   "source": [
    "#replacing 'for' with 200\n",
    "train['Average_Cost'].replace('for', '200', inplace = True)"
   ]
  },
  {
   "cell_type": "markdown",
   "metadata": {
    "colab_type": "text",
    "id": "Mo-S0e7HT2T2"
   },
   "source": [
    "Now we will clean all the values and will convert it in to integer. "
   ]
  },
  {
   "cell_type": "code",
   "execution_count": 19,
   "metadata": {
    "colab": {},
    "colab_type": "code",
    "id": "eoJghDs-OB-K"
   },
   "outputs": [],
   "source": [
    "train['Average_Cost_Cleaned'] = train['Average_Cost'].apply(lambda x: int(re.sub(\"[^0-9]\", \"\", x)))"
   ]
  },
  {
   "cell_type": "code",
   "execution_count": 20,
   "metadata": {
    "colab": {
     "base_uri": "https://localhost:8080/",
     "height": 70
    },
    "colab_type": "code",
    "id": "H_POcn32wdck",
    "outputId": "16470ab0-286c-4f69-ac75-3f2db78c4c3b"
   },
   "outputs": [
    {
     "data": {
      "text/plain": [
       "array([ 200,  100,  650,  250,  400,  150,   50,  600,  300,  350,  500,\n",
       "        450,  850,  750, 1000,  700,  800,  550, 1200,  900,  950, 1150],\n",
       "      dtype=int64)"
      ]
     },
     "execution_count": 20,
     "metadata": {},
     "output_type": "execute_result"
    }
   ],
   "source": [
    "train['Average_Cost_Cleaned'].unique()"
   ]
  },
  {
   "cell_type": "markdown",
   "metadata": {
    "colab_type": "text",
    "id": "iNlGUAMuUTye"
   },
   "source": [
    "We can see that all the special characters ahave been removed and strings have been converted to integers.\n",
    "\n",
    "---\n",
    "\n",
    "Let's perform the same operations on the test set\n"
   ]
  },
  {
   "cell_type": "code",
   "execution_count": 21,
   "metadata": {
    "colab": {
     "base_uri": "https://localhost:8080/",
     "height": 70
    },
    "colab_type": "code",
    "id": "wCZxzEqSOB8D",
    "outputId": "f5b32377-e7cb-4560-8bdd-dae7244f379f"
   },
   "outputs": [
    {
     "data": {
      "text/plain": [
       "array(['₹100', '₹200', '₹350', '₹50', '₹150', '₹650', '₹600', '₹300',\n",
       "       '₹500', '₹1,000', '₹400', '₹250', '₹450', '₹550', '₹800', '₹750',\n",
       "       '₹900', '₹1,100', '₹850', '₹1,200', '₹1,400', '₹2,050', '₹700'],\n",
       "      dtype=object)"
      ]
     },
     "execution_count": 21,
     "metadata": {},
     "output_type": "execute_result"
    }
   ],
   "source": [
    "test['Average_Cost'].unique()"
   ]
  },
  {
   "cell_type": "code",
   "execution_count": 22,
   "metadata": {
    "colab": {},
    "colab_type": "code",
    "id": "Q4gYXWVhOB6S"
   },
   "outputs": [],
   "source": [
    "test['Average_Cost_Cleaned'] = test['Average_Cost'].apply(lambda x: int(re.sub(\"[^0-9]\", \"\", x)))"
   ]
  },
  {
   "cell_type": "code",
   "execution_count": 23,
   "metadata": {
    "colab": {
     "base_uri": "https://localhost:8080/",
     "height": 52
    },
    "colab_type": "code",
    "id": "hmDLCsnVwoLi",
    "outputId": "9c554fdb-79a8-4f36-cd6e-564a17714a08"
   },
   "outputs": [
    {
     "data": {
      "text/plain": [
       "array([ 100,  200,  350,   50,  150,  650,  600,  300,  500, 1000,  400,\n",
       "        250,  450,  550,  800,  750,  900, 1100,  850, 1200, 1400, 2050,\n",
       "        700], dtype=int64)"
      ]
     },
     "execution_count": 23,
     "metadata": {},
     "output_type": "execute_result"
    }
   ],
   "source": [
    "test['Average_Cost_Cleaned'].unique()"
   ]
  },
  {
   "cell_type": "markdown",
   "metadata": {
    "colab_type": "text",
    "id": "0TtRyWCAUwfC"
   },
   "source": [
    "Now lets do the same for Minimum_Order column"
   ]
  },
  {
   "cell_type": "code",
   "execution_count": 24,
   "metadata": {
    "colab": {
     "base_uri": "https://localhost:8080/",
     "height": 70
    },
    "colab_type": "code",
    "id": "XgKZKZYEJHdu",
    "outputId": "b70f6afd-8ba6-46d2-b010-be6d54ddcc1a"
   },
   "outputs": [
    {
     "data": {
      "text/plain": [
       "array(['₹50', '₹99', '₹0', '₹350', '₹299', '₹199', '₹300', '₹200', '₹150',\n",
       "       '₹90', '₹89', '₹59', '₹450', '₹240', '₹79'], dtype=object)"
      ]
     },
     "execution_count": 24,
     "metadata": {},
     "output_type": "execute_result"
    }
   ],
   "source": [
    "train['Minimum_Order'].unique()"
   ]
  },
  {
   "cell_type": "code",
   "execution_count": 25,
   "metadata": {
    "colab": {},
    "colab_type": "code",
    "id": "P3a-jxJDUNXu"
   },
   "outputs": [],
   "source": [
    "train['Minimum_Order_Cleaned'] = train['Minimum_Order'].apply(lambda x: int(re.sub(\"[^0-9]\", \"\", x)))"
   ]
  },
  {
   "cell_type": "code",
   "execution_count": 26,
   "metadata": {
    "colab": {
     "base_uri": "https://localhost:8080/",
     "height": 52
    },
    "colab_type": "code",
    "id": "2KZl-XPAUNV3",
    "outputId": "85e6ace4-1596-4c86-8430-efe4b06df3c4"
   },
   "outputs": [
    {
     "data": {
      "text/plain": [
       "array(['₹50', '₹99', '₹500', '₹0', '₹59', '₹300', '₹299', '₹250', '₹199',\n",
       "       '₹200', '₹400'], dtype=object)"
      ]
     },
     "execution_count": 26,
     "metadata": {},
     "output_type": "execute_result"
    }
   ],
   "source": [
    "test['Minimum_Order'].unique()"
   ]
  },
  {
   "cell_type": "code",
   "execution_count": 27,
   "metadata": {
    "colab": {},
    "colab_type": "code",
    "id": "uZMbJwFnUNTh"
   },
   "outputs": [],
   "source": [
    "test['Minimum_Order_Cleaned'] = test['Minimum_Order'].apply(lambda x: int(re.sub(\"[^0-9]\", \"\", x)))"
   ]
  },
  {
   "cell_type": "code",
   "execution_count": 28,
   "metadata": {
    "colab": {
     "base_uri": "https://localhost:8080/",
     "height": 467
    },
    "colab_type": "code",
    "id": "NRddLSAzUNRu",
    "outputId": "d8e74757-f929-461a-b83c-64523a38c723"
   },
   "outputs": [
    {
     "data": {
      "text/html": [
       "<div>\n",
       "<style scoped>\n",
       "    .dataframe tbody tr th:only-of-type {\n",
       "        vertical-align: middle;\n",
       "    }\n",
       "\n",
       "    .dataframe tbody tr th {\n",
       "        vertical-align: top;\n",
       "    }\n",
       "\n",
       "    .dataframe thead th {\n",
       "        text-align: right;\n",
       "    }\n",
       "</style>\n",
       "<table border=\"1\" class=\"dataframe\">\n",
       "  <thead>\n",
       "    <tr style=\"text-align: right;\">\n",
       "      <th></th>\n",
       "      <th>Restaurant</th>\n",
       "      <th>Location</th>\n",
       "      <th>Cuisines</th>\n",
       "      <th>Average_Cost</th>\n",
       "      <th>Minimum_Order</th>\n",
       "      <th>Rating</th>\n",
       "      <th>Votes</th>\n",
       "      <th>Reviews</th>\n",
       "      <th>Delivery_Time</th>\n",
       "      <th>Average_Cost_Cleaned</th>\n",
       "      <th>Minimum_Order_Cleaned</th>\n",
       "    </tr>\n",
       "  </thead>\n",
       "  <tbody>\n",
       "    <tr>\n",
       "      <th>0</th>\n",
       "      <td>ID_3744</td>\n",
       "      <td>Dockyard Road, Mumbai CST Area</td>\n",
       "      <td>Fast Food, Chinese</td>\n",
       "      <td>₹200</td>\n",
       "      <td>₹50</td>\n",
       "      <td>3.8</td>\n",
       "      <td>91</td>\n",
       "      <td>44</td>\n",
       "      <td>45 minutes</td>\n",
       "      <td>200</td>\n",
       "      <td>50</td>\n",
       "    </tr>\n",
       "    <tr>\n",
       "      <th>1</th>\n",
       "      <td>ID_5984</td>\n",
       "      <td>Delhi Cantt.</td>\n",
       "      <td>North Indian</td>\n",
       "      <td>₹100</td>\n",
       "      <td>₹50</td>\n",
       "      <td>2.9</td>\n",
       "      <td>37</td>\n",
       "      <td>16</td>\n",
       "      <td>30 minutes</td>\n",
       "      <td>100</td>\n",
       "      <td>50</td>\n",
       "    </tr>\n",
       "    <tr>\n",
       "      <th>2</th>\n",
       "      <td>ID_13</td>\n",
       "      <td>MG Road, Pune</td>\n",
       "      <td>Continental, North Indian, Seafood, Cafe, Sala...</td>\n",
       "      <td>₹650</td>\n",
       "      <td>₹50</td>\n",
       "      <td>4.1</td>\n",
       "      <td>3860</td>\n",
       "      <td>1962</td>\n",
       "      <td>45 minutes</td>\n",
       "      <td>650</td>\n",
       "      <td>50</td>\n",
       "    </tr>\n",
       "    <tr>\n",
       "      <th>3</th>\n",
       "      <td>ID_643</td>\n",
       "      <td>Delhi Administration Flats, Timarpur</td>\n",
       "      <td>Naga</td>\n",
       "      <td>₹250</td>\n",
       "      <td>₹50</td>\n",
       "      <td>3.9</td>\n",
       "      <td>313</td>\n",
       "      <td>119</td>\n",
       "      <td>45 minutes</td>\n",
       "      <td>250</td>\n",
       "      <td>50</td>\n",
       "    </tr>\n",
       "    <tr>\n",
       "      <th>4</th>\n",
       "      <td>ID_5754</td>\n",
       "      <td>Pune University</td>\n",
       "      <td>Pizza, Fast Food</td>\n",
       "      <td>₹200</td>\n",
       "      <td>₹50</td>\n",
       "      <td>3.3</td>\n",
       "      <td>86</td>\n",
       "      <td>48</td>\n",
       "      <td>45 minutes</td>\n",
       "      <td>200</td>\n",
       "      <td>50</td>\n",
       "    </tr>\n",
       "  </tbody>\n",
       "</table>\n",
       "</div>"
      ],
      "text/plain": [
       "  Restaurant                              Location  \\\n",
       "0    ID_3744        Dockyard Road, Mumbai CST Area   \n",
       "1    ID_5984                          Delhi Cantt.   \n",
       "2      ID_13                         MG Road, Pune   \n",
       "3     ID_643  Delhi Administration Flats, Timarpur   \n",
       "4    ID_5754                       Pune University   \n",
       "\n",
       "                                            Cuisines Average_Cost  \\\n",
       "0                                 Fast Food, Chinese         ₹200   \n",
       "1                                       North Indian         ₹100   \n",
       "2  Continental, North Indian, Seafood, Cafe, Sala...         ₹650   \n",
       "3                                               Naga         ₹250   \n",
       "4                                   Pizza, Fast Food         ₹200   \n",
       "\n",
       "  Minimum_Order Rating Votes Reviews Delivery_Time  Average_Cost_Cleaned  \\\n",
       "0           ₹50    3.8    91      44    45 minutes                   200   \n",
       "1           ₹50    2.9    37      16    30 minutes                   100   \n",
       "2           ₹50    4.1  3860    1962    45 minutes                   650   \n",
       "3           ₹50    3.9   313     119    45 minutes                   250   \n",
       "4           ₹50    3.3    86      48    45 minutes                   200   \n",
       "\n",
       "   Minimum_Order_Cleaned  \n",
       "0                     50  \n",
       "1                     50  \n",
       "2                     50  \n",
       "3                     50  \n",
       "4                     50  "
      ]
     },
     "execution_count": 28,
     "metadata": {},
     "output_type": "execute_result"
    }
   ],
   "source": [
    "train.head()"
   ]
  },
  {
   "cell_type": "markdown",
   "metadata": {
    "colab_type": "text",
    "id": "Hjn_pdlpBD8w"
   },
   "source": [
    "####Location & CUISINES"
   ]
  },
  {
   "cell_type": "markdown",
   "metadata": {
    "colab_type": "text",
    "id": "1S2LHft5U9YN"
   },
   "source": [
    "Location and Cuisines are categorical variables that need to be encoded later. By looking at the dataset, we can see that each of these columns have multiple values in them. We can use each of them as a feature by splitting each column into n number of features.\n",
    "To do that we will first find the maximum number(n) of features a column has in the entire dataset including both test and train data. Once the maximum number of features within a cell is found, we will split all the rows in the dataset for that specific column into n features. \n"
   ]
  },
  {
   "cell_type": "code",
   "execution_count": 29,
   "metadata": {
    "colab": {},
    "colab_type": "code",
    "id": "TlVQYHp0Sldz"
   },
   "outputs": [],
   "source": [
    "#A function to find the maximun number of features in a single cell\n",
    "def max_features_in_single_row(train, test, delimiter):\n",
    "  max_info = 0 \n",
    "  item_lis = list(train._append(test))\n",
    "  for i in item_lis:\n",
    "    if len(i.split(\"{}\".format(delimiter))) > max_info:\n",
    "      max_info = len(i.split(\"{}\".format(delimiter)))\n",
    "  print(\"\\n\",\"-\"*35)    \n",
    "  print(\"Max_Features in One Observation = \", max_info)\n",
    "  return max_info"
   ]
  },
  {
   "cell_type": "code",
   "execution_count": 30,
   "metadata": {
    "colab": {},
    "colab_type": "code",
    "id": "3eNvsPsPlVjZ"
   },
   "outputs": [],
   "source": [
    "#This function splits a column in to n features where n is the maximum number of features in a single cell\n",
    "def feature_splitter(feat, name, delimiter, max_info):\n",
    "  item_lis = list(feat)\n",
    "  extracted_features = {}\n",
    "\n",
    "  for i in range(max_info):\n",
    "    extracted_features['{}_Feature_{}'.format(name, i+1)] = []\n",
    "  \n",
    "  print(\"-\"*35)\n",
    "  print(\"Features Dictionary : \", extracted_features)\n",
    "\n",
    "  for i in tqdm(range(len(item_lis))):\n",
    "    for j in range(max_info):  \n",
    "      try:\n",
    "        extracted_features['{}_Feature_{}'.format(name,j+1)].append(item_lis[i].split(\"{}\".format(delimiter))[j].lower().strip())\n",
    "      except: \n",
    "        extracted_features['{}_Feature_{}'.format(name, j+1)].append(np.nan)\n",
    "\n",
    "\n",
    "  return extracted_features\n"
   ]
  },
  {
   "cell_type": "code",
   "execution_count": 31,
   "metadata": {
    "colab": {
     "base_uri": "https://localhost:8080/",
     "height": 175
    },
    "colab_type": "code",
    "id": "hIgyWIdKNiXi",
    "outputId": "61dc17a9-26c7-4279-98ad-aa8ece747851"
   },
   "outputs": [
    {
     "name": "stdout",
     "output_type": "stream",
     "text": [
      "\n",
      " -----------------------------------\n",
      "Max_Features in One Observation =  4\n",
      "-----------------------------------\n",
      "Features Dictionary :  {'Location_Feature_1': [], 'Location_Feature_2': [], 'Location_Feature_3': [], 'Location_Feature_4': []}\n"
     ]
    },
    {
     "name": "stderr",
     "output_type": "stream",
     "text": [
      "100%|███████████████████████████████████████████████████████████████████████████| 8875/8875 [00:00<00:00, 77579.86it/s]\n"
     ]
    },
    {
     "name": "stdout",
     "output_type": "stream",
     "text": [
      "-----------------------------------\n",
      "Features Dictionary :  {'Location_Feature_1': [], 'Location_Feature_2': [], 'Location_Feature_3': [], 'Location_Feature_4': []}\n"
     ]
    },
    {
     "name": "stderr",
     "output_type": "stream",
     "text": [
      "100%|███████████████████████████████████████████████████████████████████████████| 2219/2219 [00:00<00:00, 62535.93it/s]\n"
     ]
    }
   ],
   "source": [
    "#Splitting Location\n",
    "loc_max = max_features_in_single_row(test['Location'],train['Location'], ',')\n",
    "train_Location_splits = feature_splitter(train['Location'], 'Location', ',', loc_max)\n",
    "test_Location_splits = feature_splitter(test['Location'], 'Location', ',', loc_max)\n"
   ]
  },
  {
   "cell_type": "code",
   "execution_count": 32,
   "metadata": {
    "colab": {
     "base_uri": "https://localhost:8080/",
     "height": 195
    },
    "colab_type": "code",
    "id": "KqcwdG_gkCPa",
    "outputId": "177a9d0a-39ec-44a8-ef3b-a21db97fe66f"
   },
   "outputs": [
    {
     "name": "stdout",
     "output_type": "stream",
     "text": [
      "\n",
      " -----------------------------------\n",
      "Max_Features in One Observation =  8\n",
      "-----------------------------------\n",
      "Features Dictionary :  {'Cuisines_Feature_1': [], 'Cuisines_Feature_2': [], 'Cuisines_Feature_3': [], 'Cuisines_Feature_4': [], 'Cuisines_Feature_5': [], 'Cuisines_Feature_6': [], 'Cuisines_Feature_7': [], 'Cuisines_Feature_8': []}\n"
     ]
    },
    {
     "name": "stderr",
     "output_type": "stream",
     "text": [
      "100%|███████████████████████████████████████████████████████████████████████████| 8875/8875 [00:00<00:00, 32075.50it/s]\n"
     ]
    },
    {
     "name": "stdout",
     "output_type": "stream",
     "text": [
      "-----------------------------------\n",
      "Features Dictionary :  {'Cuisines_Feature_1': [], 'Cuisines_Feature_2': [], 'Cuisines_Feature_3': [], 'Cuisines_Feature_4': [], 'Cuisines_Feature_5': [], 'Cuisines_Feature_6': [], 'Cuisines_Feature_7': [], 'Cuisines_Feature_8': []}\n"
     ]
    },
    {
     "name": "stderr",
     "output_type": "stream",
     "text": [
      "100%|███████████████████████████████████████████████████████████████████████████| 2219/2219 [00:00<00:00, 27452.65it/s]\n"
     ]
    }
   ],
   "source": [
    "#Splitting Cuisines\n",
    "cus_max = max_features_in_single_row(test['Cuisines'],train['Cuisines'], ',')\n",
    "train_Cuisines_splits = feature_splitter(train['Cuisines'], 'Cuisines', ',', cus_max)\n",
    "test_Cuisines_splits = feature_splitter(test['Cuisines'], 'Cuisines', ',', cus_max)"
   ]
  },
  {
   "cell_type": "markdown",
   "metadata": {
    "colab_type": "text",
    "id": "telTCWSRUvZp"
   },
   "source": [
    "####Rating, Votes & Reviews"
   ]
  },
  {
   "cell_type": "markdown",
   "metadata": {
    "colab_type": "text",
    "id": "br9VvuoNW0nB"
   },
   "source": [
    "We will now clean Rating, Votes & Reviews columns to remove invalid values and to convert them to the right type."
   ]
  },
  {
   "cell_type": "code",
   "execution_count": 33,
   "metadata": {
    "colab": {
     "base_uri": "https://localhost:8080/",
     "height": 426
    },
    "colab_type": "code",
    "id": "pdSxC7iJVJVA",
    "outputId": "c94f2f88-70ef-4366-f92a-1ab74f96ebdc"
   },
   "outputs": [
    {
     "data": {
      "text/html": [
       "<div>\n",
       "<style scoped>\n",
       "    .dataframe tbody tr th:only-of-type {\n",
       "        vertical-align: middle;\n",
       "    }\n",
       "\n",
       "    .dataframe tbody tr th {\n",
       "        vertical-align: top;\n",
       "    }\n",
       "\n",
       "    .dataframe thead th {\n",
       "        text-align: right;\n",
       "    }\n",
       "</style>\n",
       "<table border=\"1\" class=\"dataframe\">\n",
       "  <thead>\n",
       "    <tr style=\"text-align: right;\">\n",
       "      <th></th>\n",
       "      <th>Restaurant</th>\n",
       "      <th>Location</th>\n",
       "      <th>Cuisines</th>\n",
       "      <th>Average_Cost</th>\n",
       "      <th>Minimum_Order</th>\n",
       "      <th>Rating</th>\n",
       "      <th>Votes</th>\n",
       "      <th>Reviews</th>\n",
       "      <th>Delivery_Time</th>\n",
       "      <th>Average_Cost_Cleaned</th>\n",
       "      <th>Minimum_Order_Cleaned</th>\n",
       "    </tr>\n",
       "  </thead>\n",
       "  <tbody>\n",
       "    <tr>\n",
       "      <th>count</th>\n",
       "      <td>8875</td>\n",
       "      <td>8875</td>\n",
       "      <td>8875</td>\n",
       "      <td>8875</td>\n",
       "      <td>8875</td>\n",
       "      <td>8875</td>\n",
       "      <td>8875</td>\n",
       "      <td>8875</td>\n",
       "      <td>8875</td>\n",
       "      <td>8875.000000</td>\n",
       "      <td>8875.000000</td>\n",
       "    </tr>\n",
       "    <tr>\n",
       "      <th>unique</th>\n",
       "      <td>6363</td>\n",
       "      <td>35</td>\n",
       "      <td>1920</td>\n",
       "      <td>23</td>\n",
       "      <td>15</td>\n",
       "      <td>33</td>\n",
       "      <td>1024</td>\n",
       "      <td>711</td>\n",
       "      <td>7</td>\n",
       "      <td>NaN</td>\n",
       "      <td>NaN</td>\n",
       "    </tr>\n",
       "    <tr>\n",
       "      <th>top</th>\n",
       "      <td>ID_4625</td>\n",
       "      <td>Mico Layout, Stage 2, BTM Layout,Bangalore</td>\n",
       "      <td>North Indian</td>\n",
       "      <td>₹200</td>\n",
       "      <td>₹50</td>\n",
       "      <td>-</td>\n",
       "      <td>-</td>\n",
       "      <td>-</td>\n",
       "      <td>30 minutes</td>\n",
       "      <td>NaN</td>\n",
       "      <td>NaN</td>\n",
       "    </tr>\n",
       "    <tr>\n",
       "      <th>freq</th>\n",
       "      <td>16</td>\n",
       "      <td>753</td>\n",
       "      <td>681</td>\n",
       "      <td>2594</td>\n",
       "      <td>8115</td>\n",
       "      <td>961</td>\n",
       "      <td>1676</td>\n",
       "      <td>1859</td>\n",
       "      <td>5919</td>\n",
       "      <td>NaN</td>\n",
       "      <td>NaN</td>\n",
       "    </tr>\n",
       "    <tr>\n",
       "      <th>mean</th>\n",
       "      <td>NaN</td>\n",
       "      <td>NaN</td>\n",
       "      <td>NaN</td>\n",
       "      <td>NaN</td>\n",
       "      <td>NaN</td>\n",
       "      <td>NaN</td>\n",
       "      <td>NaN</td>\n",
       "      <td>NaN</td>\n",
       "      <td>NaN</td>\n",
       "      <td>203.059155</td>\n",
       "      <td>53.219155</td>\n",
       "    </tr>\n",
       "    <tr>\n",
       "      <th>std</th>\n",
       "      <td>NaN</td>\n",
       "      <td>NaN</td>\n",
       "      <td>NaN</td>\n",
       "      <td>NaN</td>\n",
       "      <td>NaN</td>\n",
       "      <td>NaN</td>\n",
       "      <td>NaN</td>\n",
       "      <td>NaN</td>\n",
       "      <td>NaN</td>\n",
       "      <td>128.385830</td>\n",
       "      <td>17.803072</td>\n",
       "    </tr>\n",
       "    <tr>\n",
       "      <th>min</th>\n",
       "      <td>NaN</td>\n",
       "      <td>NaN</td>\n",
       "      <td>NaN</td>\n",
       "      <td>NaN</td>\n",
       "      <td>NaN</td>\n",
       "      <td>NaN</td>\n",
       "      <td>NaN</td>\n",
       "      <td>NaN</td>\n",
       "      <td>NaN</td>\n",
       "      <td>50.000000</td>\n",
       "      <td>0.000000</td>\n",
       "    </tr>\n",
       "    <tr>\n",
       "      <th>25%</th>\n",
       "      <td>NaN</td>\n",
       "      <td>NaN</td>\n",
       "      <td>NaN</td>\n",
       "      <td>NaN</td>\n",
       "      <td>NaN</td>\n",
       "      <td>NaN</td>\n",
       "      <td>NaN</td>\n",
       "      <td>NaN</td>\n",
       "      <td>NaN</td>\n",
       "      <td>100.000000</td>\n",
       "      <td>50.000000</td>\n",
       "    </tr>\n",
       "    <tr>\n",
       "      <th>50%</th>\n",
       "      <td>NaN</td>\n",
       "      <td>NaN</td>\n",
       "      <td>NaN</td>\n",
       "      <td>NaN</td>\n",
       "      <td>NaN</td>\n",
       "      <td>NaN</td>\n",
       "      <td>NaN</td>\n",
       "      <td>NaN</td>\n",
       "      <td>NaN</td>\n",
       "      <td>200.000000</td>\n",
       "      <td>50.000000</td>\n",
       "    </tr>\n",
       "    <tr>\n",
       "      <th>75%</th>\n",
       "      <td>NaN</td>\n",
       "      <td>NaN</td>\n",
       "      <td>NaN</td>\n",
       "      <td>NaN</td>\n",
       "      <td>NaN</td>\n",
       "      <td>NaN</td>\n",
       "      <td>NaN</td>\n",
       "      <td>NaN</td>\n",
       "      <td>NaN</td>\n",
       "      <td>200.000000</td>\n",
       "      <td>50.000000</td>\n",
       "    </tr>\n",
       "    <tr>\n",
       "      <th>max</th>\n",
       "      <td>NaN</td>\n",
       "      <td>NaN</td>\n",
       "      <td>NaN</td>\n",
       "      <td>NaN</td>\n",
       "      <td>NaN</td>\n",
       "      <td>NaN</td>\n",
       "      <td>NaN</td>\n",
       "      <td>NaN</td>\n",
       "      <td>NaN</td>\n",
       "      <td>1200.000000</td>\n",
       "      <td>450.000000</td>\n",
       "    </tr>\n",
       "  </tbody>\n",
       "</table>\n",
       "</div>"
      ],
      "text/plain": [
       "       Restaurant                                    Location      Cuisines  \\\n",
       "count        8875                                        8875          8875   \n",
       "unique       6363                                          35          1920   \n",
       "top       ID_4625  Mico Layout, Stage 2, BTM Layout,Bangalore  North Indian   \n",
       "freq           16                                         753           681   \n",
       "mean          NaN                                         NaN           NaN   \n",
       "std           NaN                                         NaN           NaN   \n",
       "min           NaN                                         NaN           NaN   \n",
       "25%           NaN                                         NaN           NaN   \n",
       "50%           NaN                                         NaN           NaN   \n",
       "75%           NaN                                         NaN           NaN   \n",
       "max           NaN                                         NaN           NaN   \n",
       "\n",
       "       Average_Cost Minimum_Order Rating Votes Reviews Delivery_Time  \\\n",
       "count          8875          8875   8875  8875    8875          8875   \n",
       "unique           23            15     33  1024     711             7   \n",
       "top            ₹200           ₹50      -     -       -    30 minutes   \n",
       "freq           2594          8115    961  1676    1859          5919   \n",
       "mean            NaN           NaN    NaN   NaN     NaN           NaN   \n",
       "std             NaN           NaN    NaN   NaN     NaN           NaN   \n",
       "min             NaN           NaN    NaN   NaN     NaN           NaN   \n",
       "25%             NaN           NaN    NaN   NaN     NaN           NaN   \n",
       "50%             NaN           NaN    NaN   NaN     NaN           NaN   \n",
       "75%             NaN           NaN    NaN   NaN     NaN           NaN   \n",
       "max             NaN           NaN    NaN   NaN     NaN           NaN   \n",
       "\n",
       "        Average_Cost_Cleaned  Minimum_Order_Cleaned  \n",
       "count            8875.000000            8875.000000  \n",
       "unique                   NaN                    NaN  \n",
       "top                      NaN                    NaN  \n",
       "freq                     NaN                    NaN  \n",
       "mean              203.059155              53.219155  \n",
       "std               128.385830              17.803072  \n",
       "min                50.000000               0.000000  \n",
       "25%               100.000000              50.000000  \n",
       "50%               200.000000              50.000000  \n",
       "75%               200.000000              50.000000  \n",
       "max              1200.000000             450.000000  "
      ]
     },
     "execution_count": 33,
     "metadata": {},
     "output_type": "execute_result"
    }
   ],
   "source": [
    "train.describe(include = 'all')"
   ]
  },
  {
   "cell_type": "code",
   "execution_count": 34,
   "metadata": {
    "colab": {},
    "colab_type": "code",
    "id": "98JSZquOUuhA"
   },
   "outputs": [],
   "source": [
    "#A function to find all the non numeric values\n",
    "def non_numerals(series):\n",
    "  non_numerals = []\n",
    "  for i in series.unique():\n",
    "    try :\n",
    "      i = float(i)\n",
    "    except:\n",
    "      non_numerals.append(i)\n",
    "  return non_numerals"
   ]
  },
  {
   "cell_type": "code",
   "execution_count": 35,
   "metadata": {
    "colab": {},
    "colab_type": "code",
    "id": "Xd-2qqH7dPcD"
   },
   "outputs": [],
   "source": [
    "# A function to replace the non-numeric values\n",
    "def replace_nn_with(series, type_, fill_with = None, method = 'mean'):\n",
    "\n",
    "  nn = non_numerals(series)\n",
    "  print('-'*30)\n",
    "  print('-'*30)\n",
    "  print(\"Non Numerals in column \",series.name,\" : \",nn)\n",
    "\n",
    "  series = series.replace(nn, np.nan, inplace = False)\n",
    "  nulls = series.isnull().sum()\n",
    "  if fill_with:\n",
    "    series.fillna(fill_with, inplace = True)\n",
    "    print(\"Filling Non Numerals with {}\".format(fill_with))\n",
    "  \n",
    "  else:\n",
    "    series = series.replace(nn, np.nan, inplace = False)\n",
    "\n",
    "    if method == 'mean' :\n",
    "      rep = series.astype(float).mean()\n",
    "      print(\"Filling Non Numerals with MEAN = \", rep)\n",
    "\n",
    "    elif method == 'median' :\n",
    "      rep = series.astype(float).median()\n",
    "      print(\"Filling Non Numerals with MEDIAN = \", rep)\n",
    "\n",
    "    elif method == 'min' :\n",
    "      rep = series.astype(float).min()\n",
    "      print(\"Filling Non Numerals with MINIMUM = \", rep)\n",
    "\n",
    "    else:\n",
    "      print('Please pass a valid method as a string -- (\"mean\" or \"median\" or \"min\")')\n",
    "      return 0\n",
    "\n",
    "    series.fillna(rep, inplace = True)\n",
    "    \n",
    "  try:\n",
    "    series = series.astype(type_)\n",
    "    print(nulls, \": observations replaced\")\n",
    "    return series\n",
    "  except:\n",
    "    # Since type conversion of a string containting decimals to int is not possible, it is first converted to float\n",
    "    series =  series.astype(float)\n",
    "    print(nulls, \": observations replaced\")\n",
    "    series =  series.astype(type_)\n",
    "    return series\n",
    "    \n"
   ]
  },
  {
   "cell_type": "code",
   "execution_count": 36,
   "metadata": {
    "colab": {
     "base_uri": "https://localhost:8080/",
     "height": 467
    },
    "colab_type": "code",
    "id": "UgP5SZBbvH-n",
    "outputId": "4297aa2c-77ff-4661-ab66-b084b113486e"
   },
   "outputs": [
    {
     "data": {
      "text/html": [
       "<div>\n",
       "<style scoped>\n",
       "    .dataframe tbody tr th:only-of-type {\n",
       "        vertical-align: middle;\n",
       "    }\n",
       "\n",
       "    .dataframe tbody tr th {\n",
       "        vertical-align: top;\n",
       "    }\n",
       "\n",
       "    .dataframe thead th {\n",
       "        text-align: right;\n",
       "    }\n",
       "</style>\n",
       "<table border=\"1\" class=\"dataframe\">\n",
       "  <thead>\n",
       "    <tr style=\"text-align: right;\">\n",
       "      <th></th>\n",
       "      <th>Restaurant</th>\n",
       "      <th>Location</th>\n",
       "      <th>Cuisines</th>\n",
       "      <th>Average_Cost</th>\n",
       "      <th>Minimum_Order</th>\n",
       "      <th>Rating</th>\n",
       "      <th>Votes</th>\n",
       "      <th>Reviews</th>\n",
       "      <th>Delivery_Time</th>\n",
       "      <th>Average_Cost_Cleaned</th>\n",
       "      <th>Minimum_Order_Cleaned</th>\n",
       "    </tr>\n",
       "  </thead>\n",
       "  <tbody>\n",
       "    <tr>\n",
       "      <th>0</th>\n",
       "      <td>ID_3744</td>\n",
       "      <td>Dockyard Road, Mumbai CST Area</td>\n",
       "      <td>Fast Food, Chinese</td>\n",
       "      <td>₹200</td>\n",
       "      <td>₹50</td>\n",
       "      <td>3.8</td>\n",
       "      <td>91</td>\n",
       "      <td>44</td>\n",
       "      <td>45 minutes</td>\n",
       "      <td>200</td>\n",
       "      <td>50</td>\n",
       "    </tr>\n",
       "    <tr>\n",
       "      <th>1</th>\n",
       "      <td>ID_5984</td>\n",
       "      <td>Delhi Cantt.</td>\n",
       "      <td>North Indian</td>\n",
       "      <td>₹100</td>\n",
       "      <td>₹50</td>\n",
       "      <td>2.9</td>\n",
       "      <td>37</td>\n",
       "      <td>16</td>\n",
       "      <td>30 minutes</td>\n",
       "      <td>100</td>\n",
       "      <td>50</td>\n",
       "    </tr>\n",
       "    <tr>\n",
       "      <th>2</th>\n",
       "      <td>ID_13</td>\n",
       "      <td>MG Road, Pune</td>\n",
       "      <td>Continental, North Indian, Seafood, Cafe, Sala...</td>\n",
       "      <td>₹650</td>\n",
       "      <td>₹50</td>\n",
       "      <td>4.1</td>\n",
       "      <td>3860</td>\n",
       "      <td>1962</td>\n",
       "      <td>45 minutes</td>\n",
       "      <td>650</td>\n",
       "      <td>50</td>\n",
       "    </tr>\n",
       "    <tr>\n",
       "      <th>3</th>\n",
       "      <td>ID_643</td>\n",
       "      <td>Delhi Administration Flats, Timarpur</td>\n",
       "      <td>Naga</td>\n",
       "      <td>₹250</td>\n",
       "      <td>₹50</td>\n",
       "      <td>3.9</td>\n",
       "      <td>313</td>\n",
       "      <td>119</td>\n",
       "      <td>45 minutes</td>\n",
       "      <td>250</td>\n",
       "      <td>50</td>\n",
       "    </tr>\n",
       "    <tr>\n",
       "      <th>4</th>\n",
       "      <td>ID_5754</td>\n",
       "      <td>Pune University</td>\n",
       "      <td>Pizza, Fast Food</td>\n",
       "      <td>₹200</td>\n",
       "      <td>₹50</td>\n",
       "      <td>3.3</td>\n",
       "      <td>86</td>\n",
       "      <td>48</td>\n",
       "      <td>45 minutes</td>\n",
       "      <td>200</td>\n",
       "      <td>50</td>\n",
       "    </tr>\n",
       "  </tbody>\n",
       "</table>\n",
       "</div>"
      ],
      "text/plain": [
       "  Restaurant                              Location  \\\n",
       "0    ID_3744        Dockyard Road, Mumbai CST Area   \n",
       "1    ID_5984                          Delhi Cantt.   \n",
       "2      ID_13                         MG Road, Pune   \n",
       "3     ID_643  Delhi Administration Flats, Timarpur   \n",
       "4    ID_5754                       Pune University   \n",
       "\n",
       "                                            Cuisines Average_Cost  \\\n",
       "0                                 Fast Food, Chinese         ₹200   \n",
       "1                                       North Indian         ₹100   \n",
       "2  Continental, North Indian, Seafood, Cafe, Sala...         ₹650   \n",
       "3                                               Naga         ₹250   \n",
       "4                                   Pizza, Fast Food         ₹200   \n",
       "\n",
       "  Minimum_Order Rating Votes Reviews Delivery_Time  Average_Cost_Cleaned  \\\n",
       "0           ₹50    3.8    91      44    45 minutes                   200   \n",
       "1           ₹50    2.9    37      16    30 minutes                   100   \n",
       "2           ₹50    4.1  3860    1962    45 minutes                   650   \n",
       "3           ₹50    3.9   313     119    45 minutes                   250   \n",
       "4           ₹50    3.3    86      48    45 minutes                   200   \n",
       "\n",
       "   Minimum_Order_Cleaned  \n",
       "0                     50  \n",
       "1                     50  \n",
       "2                     50  \n",
       "3                     50  \n",
       "4                     50  "
      ]
     },
     "execution_count": 36,
     "metadata": {},
     "output_type": "execute_result"
    }
   ],
   "source": [
    "train.head()"
   ]
  },
  {
   "cell_type": "markdown",
   "metadata": {
    "colab_type": "text",
    "id": "D2UGyd1YXR_w"
   },
   "source": [
    "Lets Clean the columns"
   ]
  },
  {
   "cell_type": "code",
   "execution_count": 37,
   "metadata": {
    "colab": {
     "base_uri": "https://localhost:8080/",
     "height": 105
    },
    "colab_type": "code",
    "id": "N0hBJrrPcnAN",
    "outputId": "59adac76-6541-4264-a518-151dd22350ee"
   },
   "outputs": [
    {
     "name": "stdout",
     "output_type": "stream",
     "text": [
      "------------------------------\n",
      "------------------------------\n",
      "Non Numerals in column  Rating  :  ['NEW', '-', 'Temporarily Closed', 'Opening Soon']\n",
      "Filling Non Numerals with MEAN =  3.618973796131156\n",
      "1586 : observations replaced\n"
     ]
    }
   ],
   "source": [
    "train['Rating_Cleaned'] = replace_nn_with(train['Rating'],float, method = 'mean')"
   ]
  },
  {
   "cell_type": "code",
   "execution_count": 38,
   "metadata": {
    "colab": {
     "base_uri": "https://localhost:8080/",
     "height": 105
    },
    "colab_type": "code",
    "id": "mDNBE-N3yZFq",
    "outputId": "4ad058e4-30de-44f3-992a-7ffee7284ae9"
   },
   "outputs": [
    {
     "name": "stdout",
     "output_type": "stream",
     "text": [
      "------------------------------\n",
      "------------------------------\n",
      "Non Numerals in column  Rating  :  ['-', 'NEW', 'Opening Soon']\n",
      "Filling Non Numerals with 3.6134596429744668\n",
      "377 : observations replaced\n"
     ]
    }
   ],
   "source": [
    "test['Rating_Cleaned'] = replace_nn_with(test['Rating'],float, fill_with = 3.6134596429744668)"
   ]
  },
  {
   "cell_type": "code",
   "execution_count": 39,
   "metadata": {
    "colab": {
     "base_uri": "https://localhost:8080/",
     "height": 105
    },
    "colab_type": "code",
    "id": "SrSqjkJ9cm46",
    "outputId": "04aa23c4-3fc3-4745-dcb4-b3fc18465b1f"
   },
   "outputs": [
    {
     "name": "stdout",
     "output_type": "stream",
     "text": [
      "------------------------------\n",
      "------------------------------\n",
      "Non Numerals in column  Votes  :  ['-']\n",
      "Filling Non Numerals with MEAN =  253.60161133490763\n",
      "1676 : observations replaced\n"
     ]
    }
   ],
   "source": [
    "train['Votes_Cleaned'] = replace_nn_with(train['Votes'],int,method =  'mean')\n"
   ]
  },
  {
   "cell_type": "code",
   "execution_count": 40,
   "metadata": {
    "colab": {
     "base_uri": "https://localhost:8080/",
     "height": 105
    },
    "colab_type": "code",
    "id": "NK45gKPj4m9L",
    "outputId": "464ee934-3436-4cff-fd38-08acc28daabc"
   },
   "outputs": [
    {
     "name": "stdout",
     "output_type": "stream",
     "text": [
      "------------------------------\n",
      "------------------------------\n",
      "Non Numerals in column  Votes  :  ['-']\n",
      "Filling Non Numerals with 244.54445676274943\n",
      "398 : observations replaced\n"
     ]
    }
   ],
   "source": [
    "test['Votes_Cleaned'] = replace_nn_with(test['Votes'],int,fill_with = 244.54445676274943)"
   ]
  },
  {
   "cell_type": "code",
   "execution_count": 41,
   "metadata": {
    "colab": {
     "base_uri": "https://localhost:8080/",
     "height": 105
    },
    "colab_type": "code",
    "id": "D3ZTqnwIzmHa",
    "outputId": "b1a7f628-f11b-4693-a40f-68e9e6ce4a00"
   },
   "outputs": [
    {
     "name": "stdout",
     "output_type": "stream",
     "text": [
      "------------------------------\n",
      "------------------------------\n",
      "Non Numerals in column  Reviews  :  ['-']\n",
      "Filling Non Numerals with MEAN =  127.1063283922463\n",
      "1859 : observations replaced\n"
     ]
    }
   ],
   "source": [
    "train['Reviews_Cleaned'] = replace_nn_with(train['Reviews'],int, method =  'mean')"
   ]
  },
  {
   "cell_type": "code",
   "execution_count": 42,
   "metadata": {
    "colab": {
     "base_uri": "https://localhost:8080/",
     "height": 105
    },
    "colab_type": "code",
    "id": "iEMVlV2R4vcW",
    "outputId": "79278b85-6058-4ad3-9658-8312322b3795"
   },
   "outputs": [
    {
     "name": "stdout",
     "output_type": "stream",
     "text": [
      "------------------------------\n",
      "------------------------------\n",
      "Non Numerals in column  Reviews  :  ['-']\n",
      "Filling Non Numerals with 123.247893\n",
      "453 : observations replaced\n"
     ]
    }
   ],
   "source": [
    "test['Reviews_Cleaned'] = replace_nn_with(test['Reviews'],int, method =  'mean',fill_with = 123.247893 )"
   ]
  },
  {
   "cell_type": "code",
   "execution_count": 43,
   "metadata": {
    "colab": {
     "base_uri": "https://localhost:8080/",
     "height": 467
    },
    "colab_type": "code",
    "id": "kXVltCBZwXly",
    "outputId": "307b43b7-7a72-414c-a147-43a390a883a6"
   },
   "outputs": [
    {
     "data": {
      "text/html": [
       "<div>\n",
       "<style scoped>\n",
       "    .dataframe tbody tr th:only-of-type {\n",
       "        vertical-align: middle;\n",
       "    }\n",
       "\n",
       "    .dataframe tbody tr th {\n",
       "        vertical-align: top;\n",
       "    }\n",
       "\n",
       "    .dataframe thead th {\n",
       "        text-align: right;\n",
       "    }\n",
       "</style>\n",
       "<table border=\"1\" class=\"dataframe\">\n",
       "  <thead>\n",
       "    <tr style=\"text-align: right;\">\n",
       "      <th></th>\n",
       "      <th>Restaurant</th>\n",
       "      <th>Location</th>\n",
       "      <th>Cuisines</th>\n",
       "      <th>Average_Cost</th>\n",
       "      <th>Minimum_Order</th>\n",
       "      <th>Rating</th>\n",
       "      <th>Votes</th>\n",
       "      <th>Reviews</th>\n",
       "      <th>Delivery_Time</th>\n",
       "      <th>Average_Cost_Cleaned</th>\n",
       "      <th>Minimum_Order_Cleaned</th>\n",
       "      <th>Rating_Cleaned</th>\n",
       "      <th>Votes_Cleaned</th>\n",
       "      <th>Reviews_Cleaned</th>\n",
       "    </tr>\n",
       "  </thead>\n",
       "  <tbody>\n",
       "    <tr>\n",
       "      <th>0</th>\n",
       "      <td>ID_3744</td>\n",
       "      <td>Dockyard Road, Mumbai CST Area</td>\n",
       "      <td>Fast Food, Chinese</td>\n",
       "      <td>₹200</td>\n",
       "      <td>₹50</td>\n",
       "      <td>3.8</td>\n",
       "      <td>91</td>\n",
       "      <td>44</td>\n",
       "      <td>45 minutes</td>\n",
       "      <td>200</td>\n",
       "      <td>50</td>\n",
       "      <td>3.8</td>\n",
       "      <td>91</td>\n",
       "      <td>44</td>\n",
       "    </tr>\n",
       "    <tr>\n",
       "      <th>1</th>\n",
       "      <td>ID_5984</td>\n",
       "      <td>Delhi Cantt.</td>\n",
       "      <td>North Indian</td>\n",
       "      <td>₹100</td>\n",
       "      <td>₹50</td>\n",
       "      <td>2.9</td>\n",
       "      <td>37</td>\n",
       "      <td>16</td>\n",
       "      <td>30 minutes</td>\n",
       "      <td>100</td>\n",
       "      <td>50</td>\n",
       "      <td>2.9</td>\n",
       "      <td>37</td>\n",
       "      <td>16</td>\n",
       "    </tr>\n",
       "    <tr>\n",
       "      <th>2</th>\n",
       "      <td>ID_13</td>\n",
       "      <td>MG Road, Pune</td>\n",
       "      <td>Continental, North Indian, Seafood, Cafe, Sala...</td>\n",
       "      <td>₹650</td>\n",
       "      <td>₹50</td>\n",
       "      <td>4.1</td>\n",
       "      <td>3860</td>\n",
       "      <td>1962</td>\n",
       "      <td>45 minutes</td>\n",
       "      <td>650</td>\n",
       "      <td>50</td>\n",
       "      <td>4.1</td>\n",
       "      <td>3860</td>\n",
       "      <td>1962</td>\n",
       "    </tr>\n",
       "    <tr>\n",
       "      <th>3</th>\n",
       "      <td>ID_643</td>\n",
       "      <td>Delhi Administration Flats, Timarpur</td>\n",
       "      <td>Naga</td>\n",
       "      <td>₹250</td>\n",
       "      <td>₹50</td>\n",
       "      <td>3.9</td>\n",
       "      <td>313</td>\n",
       "      <td>119</td>\n",
       "      <td>45 minutes</td>\n",
       "      <td>250</td>\n",
       "      <td>50</td>\n",
       "      <td>3.9</td>\n",
       "      <td>313</td>\n",
       "      <td>119</td>\n",
       "    </tr>\n",
       "    <tr>\n",
       "      <th>4</th>\n",
       "      <td>ID_5754</td>\n",
       "      <td>Pune University</td>\n",
       "      <td>Pizza, Fast Food</td>\n",
       "      <td>₹200</td>\n",
       "      <td>₹50</td>\n",
       "      <td>3.3</td>\n",
       "      <td>86</td>\n",
       "      <td>48</td>\n",
       "      <td>45 minutes</td>\n",
       "      <td>200</td>\n",
       "      <td>50</td>\n",
       "      <td>3.3</td>\n",
       "      <td>86</td>\n",
       "      <td>48</td>\n",
       "    </tr>\n",
       "  </tbody>\n",
       "</table>\n",
       "</div>"
      ],
      "text/plain": [
       "  Restaurant                              Location  \\\n",
       "0    ID_3744        Dockyard Road, Mumbai CST Area   \n",
       "1    ID_5984                          Delhi Cantt.   \n",
       "2      ID_13                         MG Road, Pune   \n",
       "3     ID_643  Delhi Administration Flats, Timarpur   \n",
       "4    ID_5754                       Pune University   \n",
       "\n",
       "                                            Cuisines Average_Cost  \\\n",
       "0                                 Fast Food, Chinese         ₹200   \n",
       "1                                       North Indian         ₹100   \n",
       "2  Continental, North Indian, Seafood, Cafe, Sala...         ₹650   \n",
       "3                                               Naga         ₹250   \n",
       "4                                   Pizza, Fast Food         ₹200   \n",
       "\n",
       "  Minimum_Order Rating Votes Reviews Delivery_Time  Average_Cost_Cleaned  \\\n",
       "0           ₹50    3.8    91      44    45 minutes                   200   \n",
       "1           ₹50    2.9    37      16    30 minutes                   100   \n",
       "2           ₹50    4.1  3860    1962    45 minutes                   650   \n",
       "3           ₹50    3.9   313     119    45 minutes                   250   \n",
       "4           ₹50    3.3    86      48    45 minutes                   200   \n",
       "\n",
       "   Minimum_Order_Cleaned  Rating_Cleaned  Votes_Cleaned  Reviews_Cleaned  \n",
       "0                     50             3.8             91               44  \n",
       "1                     50             2.9             37               16  \n",
       "2                     50             4.1           3860             1962  \n",
       "3                     50             3.9            313              119  \n",
       "4                     50             3.3             86               48  "
      ]
     },
     "execution_count": 43,
     "metadata": {},
     "output_type": "execute_result"
    }
   ],
   "source": [
    "train.head(5)"
   ]
  },
  {
   "cell_type": "code",
   "execution_count": 44,
   "metadata": {
    "colab": {
     "base_uri": "https://localhost:8080/",
     "height": 105
    },
    "colab_type": "code",
    "id": "fbQIqpjpAZxP",
    "outputId": "41fa50ce-8faa-431f-9b3c-c56a37bea558"
   },
   "outputs": [
    {
     "data": {
      "text/plain": [
       "Index(['Restaurant', 'Location', 'Cuisines', 'Average_Cost', 'Minimum_Order',\n",
       "       'Rating', 'Votes', 'Reviews', 'Delivery_Time', 'Average_Cost_Cleaned',\n",
       "       'Minimum_Order_Cleaned', 'Rating_Cleaned', 'Votes_Cleaned',\n",
       "       'Reviews_Cleaned'],\n",
       "      dtype='object')"
      ]
     },
     "execution_count": 44,
     "metadata": {},
     "output_type": "execute_result"
    }
   ],
   "source": [
    "train.columns"
   ]
  },
  {
   "cell_type": "markdown",
   "metadata": {
    "colab_type": "text",
    "id": "WZvTDcx3Xgtc"
   },
   "source": [
    "We are done with the cleaning part and now we will select only the columns we need for further stages. "
   ]
  },
  {
   "cell_type": "code",
   "execution_count": 45,
   "metadata": {
    "colab": {},
    "colab_type": "code",
    "id": "3r-RUSjAAIgL"
   },
   "outputs": [],
   "source": [
    "cols = ['Restaurant',  'Average_Cost_Cleaned',\n",
    "       'Minimum_Order_Cleaned', 'Rating_Cleaned', 'Votes_Cleaned',\n",
    "       'Reviews_Cleaned','Delivery_Time' ]"
   ]
  },
  {
   "cell_type": "code",
   "execution_count": 46,
   "metadata": {
    "colab": {},
    "colab_type": "code",
    "id": "zdLJ2jsUAoCb"
   },
   "outputs": [],
   "source": [
    "train_sample = train[cols]\n",
    "test_sample = test[cols[:-1]]"
   ]
  },
  {
   "cell_type": "markdown",
   "metadata": {
    "colab_type": "text",
    "id": "rRbkFzexX00x"
   },
   "source": [
    "We will now merge all the cleaned features to form a perfect dataframe"
   ]
  },
  {
   "cell_type": "code",
   "execution_count": 47,
   "metadata": {
    "colab": {},
    "colab_type": "code",
    "id": "2bYpHnkkBEOt"
   },
   "outputs": [],
   "source": [
    "train_sample = pd.concat([pd.DataFrame(train_Location_splits), pd.DataFrame(train_Cuisines_splits),train_sample],sort=False,axis = 1)\n",
    "test_sample = pd.concat([pd.DataFrame(test_Location_splits), pd.DataFrame(test_Cuisines_splits), test_sample],sort=False,axis = 1)"
   ]
  },
  {
   "cell_type": "code",
   "execution_count": 48,
   "metadata": {
    "colab": {
     "base_uri": "https://localhost:8080/",
     "height": 945
    },
    "colab_type": "code",
    "id": "eBQh4JoFCEY-",
    "outputId": "0d0acebb-f037-4145-a075-256b446e962a"
   },
   "outputs": [
    {
     "name": "stderr",
     "output_type": "stream",
     "text": [
      "C:\\Users\\Lenovo\\anaconda3\\Lib\\site-packages\\seaborn\\_oldcore.py:1119: FutureWarning: use_inf_as_na option is deprecated and will be removed in a future version. Convert inf values to NaN before operating instead.\n",
      "  with pd.option_context('mode.use_inf_as_na', True):\n",
      "C:\\Users\\Lenovo\\anaconda3\\Lib\\site-packages\\seaborn\\_oldcore.py:1119: FutureWarning: use_inf_as_na option is deprecated and will be removed in a future version. Convert inf values to NaN before operating instead.\n",
      "  with pd.option_context('mode.use_inf_as_na', True):\n",
      "C:\\Users\\Lenovo\\anaconda3\\Lib\\site-packages\\seaborn\\_oldcore.py:1119: FutureWarning: use_inf_as_na option is deprecated and will be removed in a future version. Convert inf values to NaN before operating instead.\n",
      "  with pd.option_context('mode.use_inf_as_na', True):\n",
      "C:\\Users\\Lenovo\\anaconda3\\Lib\\site-packages\\seaborn\\_oldcore.py:1119: FutureWarning: use_inf_as_na option is deprecated and will be removed in a future version. Convert inf values to NaN before operating instead.\n",
      "  with pd.option_context('mode.use_inf_as_na', True):\n",
      "C:\\Users\\Lenovo\\anaconda3\\Lib\\site-packages\\seaborn\\_oldcore.py:1119: FutureWarning: use_inf_as_na option is deprecated and will be removed in a future version. Convert inf values to NaN before operating instead.\n",
      "  with pd.option_context('mode.use_inf_as_na', True):\n"
     ]
    },
    {
     "data": {
      "text/plain": [
       "<seaborn.axisgrid.PairGrid at 0x217e769e3d0>"
      ]
     },
     "execution_count": 48,
     "metadata": {},
     "output_type": "execute_result"
    },
    {
     "data": {
      "image/png": "[encoded data removed]",
      "text/plain": [
       "<Figure size 1250x1250 with 30 Axes>"
      ]
     },
     "metadata": {},
     "output_type": "display_data"
    }
   ],
   "source": [
    "#lets take a look at the relation between the numeric features in the dataset\n",
    "import seaborn\n",
    "seaborn.pairplot(train_sample)"
   ]
  },
  {
   "cell_type": "code",
   "execution_count": 49,
   "metadata": {
    "colab": {
     "base_uri": "https://localhost:8080/",
     "height": 945
    },
    "colab_type": "code",
    "id": "RmXx7yZTGUs9",
    "outputId": "3f4a96c3-4330-4fba-af9d-a22fb482534e"
   },
   "outputs": [
    {
     "name": "stderr",
     "output_type": "stream",
     "text": [
      "C:\\Users\\Lenovo\\anaconda3\\Lib\\site-packages\\seaborn\\_oldcore.py:1119: FutureWarning: use_inf_as_na option is deprecated and will be removed in a future version. Convert inf values to NaN before operating instead.\n",
      "  with pd.option_context('mode.use_inf_as_na', True):\n",
      "C:\\Users\\Lenovo\\anaconda3\\Lib\\site-packages\\seaborn\\_oldcore.py:1119: FutureWarning: use_inf_as_na option is deprecated and will be removed in a future version. Convert inf values to NaN before operating instead.\n",
      "  with pd.option_context('mode.use_inf_as_na', True):\n",
      "C:\\Users\\Lenovo\\anaconda3\\Lib\\site-packages\\seaborn\\_oldcore.py:1119: FutureWarning: use_inf_as_na option is deprecated and will be removed in a future version. Convert inf values to NaN before operating instead.\n",
      "  with pd.option_context('mode.use_inf_as_na', True):\n",
      "C:\\Users\\Lenovo\\anaconda3\\Lib\\site-packages\\seaborn\\_oldcore.py:1119: FutureWarning: use_inf_as_na option is deprecated and will be removed in a future version. Convert inf values to NaN before operating instead.\n",
      "  with pd.option_context('mode.use_inf_as_na', True):\n",
      "C:\\Users\\Lenovo\\anaconda3\\Lib\\site-packages\\seaborn\\_oldcore.py:1119: FutureWarning: use_inf_as_na option is deprecated and will be removed in a future version. Convert inf values to NaN before operating instead.\n",
      "  with pd.option_context('mode.use_inf_as_na', True):\n"
     ]
    },
    {
     "data": {
      "text/plain": [
       "<seaborn.axisgrid.PairGrid at 0x217efc481d0>"
      ]
     },
     "execution_count": 49,
     "metadata": {},
     "output_type": "execute_result"
    },
    {
     "data": {
      "image/png": "[encoded data removed]",
      "text/plain": [
       "<Figure size 1250x1250 with 30 Axes>"
      ]
     },
     "metadata": {},
     "output_type": "display_data"
    }
   ],
   "source": [
    "seaborn.pairplot(test_sample)"
   ]
  },
  {
   "cell_type": "markdown",
   "metadata": {
    "colab_type": "text",
    "id": "u1kumctM5Jf5"
   },
   "source": [
    "##Data Preprocessing"
   ]
  },
  {
   "cell_type": "markdown",
   "metadata": {
    "colab_type": "text",
    "id": "1bxiaN83YEcA"
   },
   "source": [
    "After cleaning, there are still some Data-Preparation tasks left. We still have some missing values that we allotted during the feature generation.\n",
    "\n",
    "In the Preprocessing stage we will perform the following :\n",
    "\n",
    "* Dealing with Nulls/empty cells\n",
    "* Encoding Categorical variables\n",
    "* Scaling the features"
   ]
  },
  {
   "cell_type": "markdown",
   "metadata": {
    "colab_type": "text",
    "id": "SCbszxL0-NPg"
   },
   "source": [
    "### Removing Nulls"
   ]
  },
  {
   "cell_type": "code",
   "execution_count": 50,
   "metadata": {
    "colab": {
     "base_uri": "https://localhost:8080/",
     "height": 369
    },
    "colab_type": "code",
    "id": "MkXVhYBP2EL4",
    "outputId": "8502bb52-cee0-48c7-cfe6-3c5bbc342f46"
   },
   "outputs": [
    {
     "data": {
      "text/plain": [
       "Location_Feature_1          0\n",
       "Location_Feature_2       1566\n",
       "Location_Feature_3       5103\n",
       "Location_Feature_4       8058\n",
       "Cuisines_Feature_1          0\n",
       "Cuisines_Feature_2       2383\n",
       "Cuisines_Feature_3       5521\n",
       "Cuisines_Feature_4       7502\n",
       "Cuisines_Feature_5       8368\n",
       "Cuisines_Feature_6       8687\n",
       "Cuisines_Feature_7       8787\n",
       "Cuisines_Feature_8       8836\n",
       "Restaurant                  0\n",
       "Average_Cost_Cleaned        0\n",
       "Minimum_Order_Cleaned       0\n",
       "Rating_Cleaned              0\n",
       "Votes_Cleaned               0\n",
       "Reviews_Cleaned             0\n",
       "Delivery_Time               0\n",
       "dtype: int64"
      ]
     },
     "execution_count": 50,
     "metadata": {},
     "output_type": "execute_result"
    }
   ],
   "source": [
    "train_sample.isnull().sum()"
   ]
  },
  {
   "cell_type": "markdown",
   "metadata": {
    "colab_type": "text",
    "id": "xVejY3poZKSx"
   },
   "source": [
    "Since the nulls are present only in the categorical features, in this approach, to make it simple I will just replace all the NaNs with a string 'NAN' and will use it as a added category or class."
   ]
  },
  {
   "cell_type": "code",
   "execution_count": 51,
   "metadata": {
    "colab": {},
    "colab_type": "code",
    "id": "iQUda-wk2VvR"
   },
   "outputs": [],
   "source": [
    "train_sample.fillna('NAN', inplace = True)"
   ]
  },
  {
   "cell_type": "code",
   "execution_count": 52,
   "metadata": {
    "colab": {
     "base_uri": "https://localhost:8080/",
     "height": 369
    },
    "colab_type": "code",
    "id": "i11idxAi2gI0",
    "outputId": "8b621127-4f8d-404e-d98f-efbaeca2669a"
   },
   "outputs": [
    {
     "data": {
      "text/plain": [
       "Location_Feature_1       0\n",
       "Location_Feature_2       0\n",
       "Location_Feature_3       0\n",
       "Location_Feature_4       0\n",
       "Cuisines_Feature_1       0\n",
       "Cuisines_Feature_2       0\n",
       "Cuisines_Feature_3       0\n",
       "Cuisines_Feature_4       0\n",
       "Cuisines_Feature_5       0\n",
       "Cuisines_Feature_6       0\n",
       "Cuisines_Feature_7       0\n",
       "Cuisines_Feature_8       0\n",
       "Restaurant               0\n",
       "Average_Cost_Cleaned     0\n",
       "Minimum_Order_Cleaned    0\n",
       "Rating_Cleaned           0\n",
       "Votes_Cleaned            0\n",
       "Reviews_Cleaned          0\n",
       "Delivery_Time            0\n",
       "dtype: int64"
      ]
     },
     "execution_count": 52,
     "metadata": {},
     "output_type": "execute_result"
    }
   ],
   "source": [
    "train_sample.isnull().sum()"
   ]
  },
  {
   "cell_type": "code",
   "execution_count": 53,
   "metadata": {
    "colab": {
     "base_uri": "https://localhost:8080/",
     "height": 369
    },
    "colab_type": "code",
    "id": "b3UkAuNO2ntr",
    "outputId": "b6e08b1b-54b2-4be1-9066-cf0a2867ced9"
   },
   "outputs": [
    {
     "data": {
      "text/plain": [
       "Location_Feature_1       0\n",
       "Location_Feature_2       0\n",
       "Location_Feature_3       0\n",
       "Location_Feature_4       0\n",
       "Cuisines_Feature_1       0\n",
       "Cuisines_Feature_2       0\n",
       "Cuisines_Feature_3       0\n",
       "Cuisines_Feature_4       0\n",
       "Cuisines_Feature_5       0\n",
       "Cuisines_Feature_6       0\n",
       "Cuisines_Feature_7       0\n",
       "Cuisines_Feature_8       0\n",
       "Restaurant               0\n",
       "Average_Cost_Cleaned     0\n",
       "Minimum_Order_Cleaned    0\n",
       "Rating_Cleaned           0\n",
       "Votes_Cleaned            0\n",
       "Reviews_Cleaned          0\n",
       "Delivery_Time            0\n",
       "dtype: int64"
      ]
     },
     "execution_count": 53,
     "metadata": {},
     "output_type": "execute_result"
    }
   ],
   "source": [
    "train_sample.isnull().sum()"
   ]
  },
  {
   "cell_type": "code",
   "execution_count": 54,
   "metadata": {
    "colab": {},
    "colab_type": "code",
    "id": "7ePhAXn12iBg"
   },
   "outputs": [],
   "source": [
    "test_sample.fillna('NAN', inplace = True)"
   ]
  },
  {
   "cell_type": "code",
   "execution_count": 55,
   "metadata": {
    "colab": {
     "base_uri": "https://localhost:8080/",
     "height": 369
    },
    "colab_type": "code",
    "id": "ddDN2nVH2h_S",
    "outputId": "58f41966-1f73-4e2f-9f26-821aabbe30cf"
   },
   "outputs": [
    {
     "data": {
      "text/plain": [
       "Location_Feature_1       0\n",
       "Location_Feature_2       0\n",
       "Location_Feature_3       0\n",
       "Location_Feature_4       0\n",
       "Cuisines_Feature_1       0\n",
       "Cuisines_Feature_2       0\n",
       "Cuisines_Feature_3       0\n",
       "Cuisines_Feature_4       0\n",
       "Cuisines_Feature_5       0\n",
       "Cuisines_Feature_6       0\n",
       "Cuisines_Feature_7       0\n",
       "Cuisines_Feature_8       0\n",
       "Restaurant               0\n",
       "Average_Cost_Cleaned     0\n",
       "Minimum_Order_Cleaned    0\n",
       "Rating_Cleaned           0\n",
       "Votes_Cleaned            0\n",
       "Reviews_Cleaned          0\n",
       "Delivery_Time            0\n",
       "dtype: int64"
      ]
     },
     "execution_count": 55,
     "metadata": {},
     "output_type": "execute_result"
    }
   ],
   "source": [
    "train_sample.isnull().sum()"
   ]
  },
  {
   "cell_type": "markdown",
   "metadata": {
    "colab_type": "text",
    "id": "wRVErMt0HBFp"
   },
   "source": [
    "### Encoding Categories"
   ]
  },
  {
   "cell_type": "markdown",
   "metadata": {
    "colab_type": "text",
    "id": "qkuN0nZ8ZcMo"
   },
   "source": [
    "\n",
    "\n",
    "---\n",
    "\n",
    "Here we will use a simple Label Encoder to transform all the strings or categories."
   ]
  },
  {
   "cell_type": "markdown",
   "metadata": {
    "colab_type": "text",
    "id": "tQXtDXaONwjx"
   },
   "source": [
    "####Locations & Cuisines"
   ]
  },
  {
   "cell_type": "markdown",
   "metadata": {
    "colab_type": "text",
    "id": "PWKUUgjRZ3oO"
   },
   "source": [
    "We will first find the unique values or categories in each of the categorical features and fit the label encoder with the unique values. The encoder eill assign an integer code to each of the categories which can be used to tranform the entire categorical feature column."
   ]
  },
  {
   "cell_type": "code",
   "execution_count": 56,
   "metadata": {
    "colab": {},
    "colab_type": "code",
    "id": "3C5FxHrpJyy1"
   },
   "outputs": [],
   "source": [
    "temp1 = []\n",
    "for i in train_Cuisines_splits.keys():\n",
    "  for j in train_Cuisines_splits.get(i):\n",
    "    temp1.append(j)\n",
    "\n",
    "temp2 = []\n",
    "for i in test_Cuisines_splits.keys():\n",
    "  for j in test_Cuisines_splits.get(i):\n",
    "    temp2.append(j)\n",
    "\n",
    "temp1.extend(temp2)\n",
    "\n",
    "unique_cuisines = list(pd.Series(temp1).unique())\n",
    "unique_cuisines.append('NAN')"
   ]
  },
  {
   "cell_type": "markdown",
   "metadata": {
    "colab_type": "text",
    "id": "-TwuUkxbafu2"
   },
   "source": [
    "**Note:**\n",
    "We are also adding an extra category called NAN that we used to replace the NaN values."
   ]
  },
  {
   "cell_type": "code",
   "execution_count": 57,
   "metadata": {
    "colab": {
     "base_uri": "https://localhost:8080/",
     "height": 34
    },
    "colab_type": "code",
    "id": "zVFV3HlYcnB8",
    "outputId": "ae6dd596-333f-4d81-bcdc-1276ab53a1df"
   },
   "outputs": [
    {
     "data": {
      "text/plain": [
       "103"
      ]
     },
     "execution_count": 57,
     "metadata": {},
     "output_type": "execute_result"
    }
   ],
   "source": [
    "len(unique_cuisines)"
   ]
  },
  {
   "cell_type": "markdown",
   "metadata": {
    "colab_type": "text",
    "id": "sXmPQgxIayR2"
   },
   "source": [
    "The location is a tricky feature. You can use external data to fill the missing data. For example, if the city is missing you can use the street name and try to find the City for the missing fields.\n",
    "\n",
    "For simplicity, here I have followed the same approach as I did for Cuisines which is not a perfect solution."
   ]
  },
  {
   "cell_type": "code",
   "execution_count": 58,
   "metadata": {
    "colab": {},
    "colab_type": "code",
    "id": "PFdxEMFYapOg"
   },
   "outputs": [],
   "source": [
    "temp1 = []\n",
    "for i in train_Location_splits.keys():\n",
    "  for j in train_Location_splits.get(i):\n",
    "    temp1.append(j)\n",
    "\n",
    "temp2 = []\n",
    "for i in test_Location_splits.keys():\n",
    "  for j in test_Location_splits.get(i):\n",
    "    temp2.append(j)\n",
    "\n",
    "temp1.extend(temp2)\n",
    "\n",
    "unique_locations = list(pd.Series(temp1).unique())\n",
    "unique_locations.append('NAN')"
   ]
  },
  {
   "cell_type": "code",
   "execution_count": 59,
   "metadata": {
    "colab": {
     "base_uri": "https://localhost:8080/",
     "height": 34
    },
    "colab_type": "code",
    "id": "NgYB9IGpao_8",
    "outputId": "7e110ca1-f9ce-418f-aa70-129f1fc43a73"
   },
   "outputs": [
    {
     "data": {
      "text/plain": [
       "67"
      ]
     },
     "execution_count": 59,
     "metadata": {},
     "output_type": "execute_result"
    }
   ],
   "source": [
    "len(unique_locations)"
   ]
  },
  {
   "cell_type": "code",
   "execution_count": 60,
   "metadata": {
    "colab": {},
    "colab_type": "code",
    "id": "y4VLRR_SXPeM"
   },
   "outputs": [],
   "source": [
    "#encoding the categorical Features\n",
    "from sklearn.preprocessing import LabelEncoder\n",
    "le_c = LabelEncoder().fit(unique_cuisines)\n",
    "le_l = LabelEncoder().fit(unique_locations)"
   ]
  },
  {
   "cell_type": "code",
   "execution_count": 61,
   "metadata": {
    "colab": {},
    "colab_type": "code",
    "id": "LRZw0YSE3dYe"
   },
   "outputs": [],
   "source": [
    "for i in train_Location_splits.keys():\n",
    "  train_sample[i] = le_l.transform(train_sample[i])"
   ]
  },
  {
   "cell_type": "code",
   "execution_count": 62,
   "metadata": {
    "colab": {},
    "colab_type": "code",
    "id": "4U5u_YD63dVs"
   },
   "outputs": [],
   "source": [
    "\n",
    "for i in train_Cuisines_splits.keys():\n",
    "  train_sample[i] = le_c.transform(train_sample[i])"
   ]
  },
  {
   "cell_type": "code",
   "execution_count": 63,
   "metadata": {
    "colab": {},
    "colab_type": "code",
    "id": "Fj2Jj6BW3fuL"
   },
   "outputs": [],
   "source": [
    "for i in train_Location_splits.keys():\n",
    "  test_sample[i] = le_l.transform(test_sample[i])"
   ]
  },
  {
   "cell_type": "code",
   "execution_count": 64,
   "metadata": {
    "colab": {},
    "colab_type": "code",
    "id": "o1syc4_-3fsG"
   },
   "outputs": [],
   "source": [
    "for i in test_Cuisines_splits.keys():\n",
    "  test_sample[i] = le_c.transform(test_sample[i])"
   ]
  },
  {
   "cell_type": "markdown",
   "metadata": {
    "colab_type": "text",
    "id": "1R2AgdQg5OKR"
   },
   "source": [
    "####Restaurant IDs"
   ]
  },
  {
   "cell_type": "markdown",
   "metadata": {
    "colab_type": "text",
    "id": "DAY-qFUkbvOn"
   },
   "source": [
    "We will follow a similar approach for encoding the Restaurant IDs"
   ]
  },
  {
   "cell_type": "code",
   "execution_count": 65,
   "metadata": {
    "colab": {},
    "colab_type": "code",
    "id": "Gjy67q7m4yyI"
   },
   "outputs": [],
   "source": [
    "t1 = list(train_sample['Restaurant'])\n",
    "t2 = list(test_sample['Restaurant'])\n",
    "\n",
    "t1.extend(t2)\n",
    "unique_ids = list(set(t1))"
   ]
  },
  {
   "cell_type": "code",
   "execution_count": 66,
   "metadata": {
    "colab": {
     "base_uri": "https://localhost:8080/",
     "height": 34
    },
    "colab_type": "code",
    "id": "rMEP1sK351oP",
    "outputId": "28392015-2ec5-475f-f0af-0f40262ca4d9"
   },
   "outputs": [
    {
     "data": {
      "text/plain": [
       "7480"
      ]
     },
     "execution_count": 66,
     "metadata": {},
     "output_type": "execute_result"
    }
   ],
   "source": [
    "len(unique_ids)"
   ]
  },
  {
   "cell_type": "code",
   "execution_count": 67,
   "metadata": {
    "colab": {},
    "colab_type": "code",
    "id": "MPZ8Vu2q3foQ"
   },
   "outputs": [],
   "source": [
    "le_id = LabelEncoder().fit(unique_ids)"
   ]
  },
  {
   "cell_type": "code",
   "execution_count": 68,
   "metadata": {
    "colab": {},
    "colab_type": "code",
    "id": "OkIo4_xX3fmb"
   },
   "outputs": [],
   "source": [
    "train_sample['Restaurant'] = le_id.transform(train_sample['Restaurant'])\n",
    "test_sample['Restaurant'] = le_id.transform(test_sample['Restaurant'])"
   ]
  },
  {
   "cell_type": "markdown",
   "metadata": {
    "colab_type": "text",
    "id": "FIGYqSTs6siA"
   },
   "source": [
    "### Scaling"
   ]
  },
  {
   "cell_type": "markdown",
   "metadata": {
    "colab_type": "text",
    "id": "RLNrIonDb77p"
   },
   "source": [
    "We will now normalize the data using the StandardScaler"
   ]
  },
  {
   "cell_type": "code",
   "execution_count": 69,
   "metadata": {
    "colab": {},
    "colab_type": "code",
    "id": "BapushLu67t_"
   },
   "outputs": [],
   "source": [
    "cols = list(train_sample.columns)"
   ]
  },
  {
   "cell_type": "code",
   "execution_count": 70,
   "metadata": {
    "colab": {},
    "colab_type": "code",
    "id": "iN9VLzktXPZV"
   },
   "outputs": [],
   "source": [
    "from sklearn.preprocessing import StandardScaler\n",
    "ss = StandardScaler()"
   ]
  },
  {
   "cell_type": "code",
   "execution_count": 71,
   "metadata": {
    "colab": {},
    "colab_type": "code",
    "id": "FnZPES32XPQX"
   },
   "outputs": [],
   "source": [
    "train_sample[cols[:-1]] = ss.fit_transform(train_sample[cols[:-1]])"
   ]
  },
  {
   "cell_type": "code",
   "execution_count": 72,
   "metadata": {
    "colab": {},
    "colab_type": "code",
    "id": "usUErPxy7arJ"
   },
   "outputs": [],
   "source": [
    "test_sample[cols[:-1]] = ss.fit_transform(test_sample[cols[:-1]])"
   ]
  },
  {
   "cell_type": "code",
   "execution_count": 73,
   "metadata": {
    "colab": {
     "base_uri": "https://localhost:8080/",
     "height": 215
    },
    "colab_type": "code",
    "id": "SeC25GVmgItl",
    "outputId": "6cf87202-6da3-44f5-9a11-ccde6c736b44"
   },
   "outputs": [
    {
     "data": {
      "text/html": [
       "<div>\n",
       "<style scoped>\n",
       "    .dataframe tbody tr th:only-of-type {\n",
       "        vertical-align: middle;\n",
       "    }\n",
       "\n",
       "    .dataframe tbody tr th {\n",
       "        vertical-align: top;\n",
       "    }\n",
       "\n",
       "    .dataframe thead th {\n",
       "        text-align: right;\n",
       "    }\n",
       "</style>\n",
       "<table border=\"1\" class=\"dataframe\">\n",
       "  <thead>\n",
       "    <tr style=\"text-align: right;\">\n",
       "      <th></th>\n",
       "      <th>Location_Feature_1</th>\n",
       "      <th>Location_Feature_2</th>\n",
       "      <th>Location_Feature_3</th>\n",
       "      <th>Location_Feature_4</th>\n",
       "      <th>Cuisines_Feature_1</th>\n",
       "      <th>Cuisines_Feature_2</th>\n",
       "      <th>Cuisines_Feature_3</th>\n",
       "      <th>Cuisines_Feature_4</th>\n",
       "      <th>Cuisines_Feature_5</th>\n",
       "      <th>Cuisines_Feature_6</th>\n",
       "      <th>Cuisines_Feature_7</th>\n",
       "      <th>Cuisines_Feature_8</th>\n",
       "      <th>Restaurant</th>\n",
       "      <th>Average_Cost_Cleaned</th>\n",
       "      <th>Minimum_Order_Cleaned</th>\n",
       "      <th>Rating_Cleaned</th>\n",
       "      <th>Votes_Cleaned</th>\n",
       "      <th>Reviews_Cleaned</th>\n",
       "      <th>Delivery_Time</th>\n",
       "    </tr>\n",
       "  </thead>\n",
       "  <tbody>\n",
       "    <tr>\n",
       "      <th>0</th>\n",
       "      <td>-0.980479</td>\n",
       "      <td>0.177867</td>\n",
       "      <td>-0.660952</td>\n",
       "      <td>-0.16102</td>\n",
       "      <td>-0.725688</td>\n",
       "      <td>-0.224932</td>\n",
       "      <td>-0.624804</td>\n",
       "      <td>-0.36029</td>\n",
       "      <td>-0.203607</td>\n",
       "      <td>-0.123402</td>\n",
       "      <td>-0.083227</td>\n",
       "      <td>-0.05786</td>\n",
       "      <td>-0.526235</td>\n",
       "      <td>-0.023829</td>\n",
       "      <td>-0.18083</td>\n",
       "      <td>0.483555</td>\n",
       "      <td>-0.312440</td>\n",
       "      <td>-0.281946</td>\n",
       "      <td>45 minutes</td>\n",
       "    </tr>\n",
       "    <tr>\n",
       "      <th>1</th>\n",
       "      <td>-1.139103</td>\n",
       "      <td>-1.665295</td>\n",
       "      <td>-0.660952</td>\n",
       "      <td>-0.16102</td>\n",
       "      <td>0.813633</td>\n",
       "      <td>-1.119289</td>\n",
       "      <td>-0.624804</td>\n",
       "      <td>-0.36029</td>\n",
       "      <td>-0.203607</td>\n",
       "      <td>-0.123402</td>\n",
       "      <td>-0.083227</td>\n",
       "      <td>-0.05786</td>\n",
       "      <td>0.466041</td>\n",
       "      <td>-0.802775</td>\n",
       "      <td>-0.18083</td>\n",
       "      <td>-1.920514</td>\n",
       "      <td>-0.416274</td>\n",
       "      <td>-0.376964</td>\n",
       "      <td>30 minutes</td>\n",
       "    </tr>\n",
       "    <tr>\n",
       "      <th>2</th>\n",
       "      <td>0.024135</td>\n",
       "      <td>0.614406</td>\n",
       "      <td>-0.660952</td>\n",
       "      <td>-0.16102</td>\n",
       "      <td>-0.835640</td>\n",
       "      <td>1.331912</td>\n",
       "      <td>2.508856</td>\n",
       "      <td>0.79300</td>\n",
       "      <td>6.207189</td>\n",
       "      <td>3.422604</td>\n",
       "      <td>-0.083227</td>\n",
       "      <td>-0.05786</td>\n",
       "      <td>-1.599352</td>\n",
       "      <td>3.481428</td>\n",
       "      <td>-0.18083</td>\n",
       "      <td>1.284911</td>\n",
       "      <td>6.934786</td>\n",
       "      <td>6.226797</td>\n",
       "      <td>45 minutes</td>\n",
       "    </tr>\n",
       "    <tr>\n",
       "      <th>3</th>\n",
       "      <td>-1.191977</td>\n",
       "      <td>1.341970</td>\n",
       "      <td>-0.660952</td>\n",
       "      <td>-0.16102</td>\n",
       "      <td>0.667031</td>\n",
       "      <td>-1.119289</td>\n",
       "      <td>-0.624804</td>\n",
       "      <td>-0.36029</td>\n",
       "      <td>-0.203607</td>\n",
       "      <td>-0.123402</td>\n",
       "      <td>-0.083227</td>\n",
       "      <td>-0.05786</td>\n",
       "      <td>0.661909</td>\n",
       "      <td>0.365644</td>\n",
       "      <td>-0.18083</td>\n",
       "      <td>0.750674</td>\n",
       "      <td>0.114433</td>\n",
       "      <td>-0.027433</td>\n",
       "      <td>45 minutes</td>\n",
       "    </tr>\n",
       "    <tr>\n",
       "      <th>4</th>\n",
       "      <td>0.817251</td>\n",
       "      <td>-1.665295</td>\n",
       "      <td>-0.660952</td>\n",
       "      <td>-0.16102</td>\n",
       "      <td>0.960235</td>\n",
       "      <td>-0.059310</td>\n",
       "      <td>-0.624804</td>\n",
       "      <td>-0.36029</td>\n",
       "      <td>-0.203607</td>\n",
       "      <td>-0.123402</td>\n",
       "      <td>-0.083227</td>\n",
       "      <td>-0.05786</td>\n",
       "      <td>0.364873</td>\n",
       "      <td>-0.023829</td>\n",
       "      <td>-0.18083</td>\n",
       "      <td>-0.852039</td>\n",
       "      <td>-0.322055</td>\n",
       "      <td>-0.268372</td>\n",
       "      <td>45 minutes</td>\n",
       "    </tr>\n",
       "  </tbody>\n",
       "</table>\n",
       "</div>"
      ],
      "text/plain": [
       "   Location_Feature_1  Location_Feature_2  Location_Feature_3  \\\n",
       "0           -0.980479            0.177867           -0.660952   \n",
       "1           -1.139103           -1.665295           -0.660952   \n",
       "2            0.024135            0.614406           -0.660952   \n",
       "3           -1.191977            1.341970           -0.660952   \n",
       "4            0.817251           -1.665295           -0.660952   \n",
       "\n",
       "   Location_Feature_4  Cuisines_Feature_1  Cuisines_Feature_2  \\\n",
       "0            -0.16102           -0.725688           -0.224932   \n",
       "1            -0.16102            0.813633           -1.119289   \n",
       "2            -0.16102           -0.835640            1.331912   \n",
       "3            -0.16102            0.667031           -1.119289   \n",
       "4            -0.16102            0.960235           -0.059310   \n",
       "\n",
       "   Cuisines_Feature_3  Cuisines_Feature_4  Cuisines_Feature_5  \\\n",
       "0           -0.624804            -0.36029           -0.203607   \n",
       "1           -0.624804            -0.36029           -0.203607   \n",
       "2            2.508856             0.79300            6.207189   \n",
       "3           -0.624804            -0.36029           -0.203607   \n",
       "4           -0.624804            -0.36029           -0.203607   \n",
       "\n",
       "   Cuisines_Feature_6  Cuisines_Feature_7  Cuisines_Feature_8  Restaurant  \\\n",
       "0           -0.123402           -0.083227            -0.05786   -0.526235   \n",
       "1           -0.123402           -0.083227            -0.05786    0.466041   \n",
       "2            3.422604           -0.083227            -0.05786   -1.599352   \n",
       "3           -0.123402           -0.083227            -0.05786    0.661909   \n",
       "4           -0.123402           -0.083227            -0.05786    0.364873   \n",
       "\n",
       "   Average_Cost_Cleaned  Minimum_Order_Cleaned  Rating_Cleaned  Votes_Cleaned  \\\n",
       "0             -0.023829               -0.18083        0.483555      -0.312440   \n",
       "1             -0.802775               -0.18083       -1.920514      -0.416274   \n",
       "2              3.481428               -0.18083        1.284911       6.934786   \n",
       "3              0.365644               -0.18083        0.750674       0.114433   \n",
       "4             -0.023829               -0.18083       -0.852039      -0.322055   \n",
       "\n",
       "   Reviews_Cleaned Delivery_Time  \n",
       "0        -0.281946    45 minutes  \n",
       "1        -0.376964    30 minutes  \n",
       "2         6.226797    45 minutes  \n",
       "3        -0.027433    45 minutes  \n",
       "4        -0.268372    45 minutes  "
      ]
     },
     "execution_count": 73,
     "metadata": {},
     "output_type": "execute_result"
    }
   ],
   "source": [
    "train_sample.head()"
   ]
  },
  {
   "cell_type": "code",
   "execution_count": 74,
   "metadata": {
    "colab": {
     "base_uri": "https://localhost:8080/",
     "height": 215
    },
    "colab_type": "code",
    "id": "mF9OMgtMgKRt",
    "outputId": "e3487516-6633-45f8-f205-c41635fe51c8"
   },
   "outputs": [
    {
     "data": {
      "text/html": [
       "<div>\n",
       "<style scoped>\n",
       "    .dataframe tbody tr th:only-of-type {\n",
       "        vertical-align: middle;\n",
       "    }\n",
       "\n",
       "    .dataframe tbody tr th {\n",
       "        vertical-align: top;\n",
       "    }\n",
       "\n",
       "    .dataframe thead th {\n",
       "        text-align: right;\n",
       "    }\n",
       "</style>\n",
       "<table border=\"1\" class=\"dataframe\">\n",
       "  <thead>\n",
       "    <tr style=\"text-align: right;\">\n",
       "      <th></th>\n",
       "      <th>Location_Feature_1</th>\n",
       "      <th>Location_Feature_2</th>\n",
       "      <th>Location_Feature_3</th>\n",
       "      <th>Location_Feature_4</th>\n",
       "      <th>Cuisines_Feature_1</th>\n",
       "      <th>Cuisines_Feature_2</th>\n",
       "      <th>Cuisines_Feature_3</th>\n",
       "      <th>Cuisines_Feature_4</th>\n",
       "      <th>Cuisines_Feature_5</th>\n",
       "      <th>Cuisines_Feature_6</th>\n",
       "      <th>Cuisines_Feature_7</th>\n",
       "      <th>Cuisines_Feature_8</th>\n",
       "      <th>Restaurant</th>\n",
       "      <th>Average_Cost_Cleaned</th>\n",
       "      <th>Minimum_Order_Cleaned</th>\n",
       "      <th>Rating_Cleaned</th>\n",
       "      <th>Votes_Cleaned</th>\n",
       "      <th>Reviews_Cleaned</th>\n",
       "    </tr>\n",
       "  </thead>\n",
       "  <tbody>\n",
       "    <tr>\n",
       "      <th>0</th>\n",
       "      <td>-0.942852</td>\n",
       "      <td>0.155271</td>\n",
       "      <td>-0.658694</td>\n",
       "      <td>-0.162884</td>\n",
       "      <td>-0.671448</td>\n",
       "      <td>-1.102410</td>\n",
       "      <td>-0.608594</td>\n",
       "      <td>-0.358018</td>\n",
       "      <td>-0.211737</td>\n",
       "      <td>-0.131775</td>\n",
       "      <td>-0.095667</td>\n",
       "      <td>-0.053948</td>\n",
       "      <td>-0.733454</td>\n",
       "      <td>-0.747884</td>\n",
       "      <td>-0.180773</td>\n",
       "      <td>0.047502</td>\n",
       "      <td>0.070284</td>\n",
       "      <td>0.048872</td>\n",
       "    </tr>\n",
       "    <tr>\n",
       "      <th>1</th>\n",
       "      <td>0.111439</td>\n",
       "      <td>1.222276</td>\n",
       "      <td>-0.454447</td>\n",
       "      <td>0.784531</td>\n",
       "      <td>-1.286485</td>\n",
       "      <td>1.922748</td>\n",
       "      <td>-0.608594</td>\n",
       "      <td>-0.358018</td>\n",
       "      <td>-0.211737</td>\n",
       "      <td>-0.131775</td>\n",
       "      <td>-0.095667</td>\n",
       "      <td>-0.053948</td>\n",
       "      <td>-0.259800</td>\n",
       "      <td>-0.747884</td>\n",
       "      <td>-0.180773</td>\n",
       "      <td>-0.774554</td>\n",
       "      <td>-0.512642</td>\n",
       "      <td>-0.439756</td>\n",
       "    </tr>\n",
       "    <tr>\n",
       "      <th>2</th>\n",
       "      <td>1.534733</td>\n",
       "      <td>1.416277</td>\n",
       "      <td>1.179528</td>\n",
       "      <td>-0.162884</td>\n",
       "      <td>1.390733</td>\n",
       "      <td>-1.102410</td>\n",
       "      <td>-0.608594</td>\n",
       "      <td>-0.358018</td>\n",
       "      <td>-0.211737</td>\n",
       "      <td>-0.131775</td>\n",
       "      <td>-0.095667</td>\n",
       "      <td>-0.053948</td>\n",
       "      <td>0.811373</td>\n",
       "      <td>-0.009648</td>\n",
       "      <td>-0.180773</td>\n",
       "      <td>-1.036806</td>\n",
       "      <td>-0.493211</td>\n",
       "      <td>-0.435684</td>\n",
       "    </tr>\n",
       "    <tr>\n",
       "      <th>3</th>\n",
       "      <td>-0.942852</td>\n",
       "      <td>0.155271</td>\n",
       "      <td>-0.658694</td>\n",
       "      <td>-0.162884</td>\n",
       "      <td>1.390733</td>\n",
       "      <td>1.304705</td>\n",
       "      <td>0.562736</td>\n",
       "      <td>-0.358018</td>\n",
       "      <td>-0.211737</td>\n",
       "      <td>-0.131775</td>\n",
       "      <td>-0.095667</td>\n",
       "      <td>-0.053948</td>\n",
       "      <td>-0.873092</td>\n",
       "      <td>-0.009648</td>\n",
       "      <td>-0.180773</td>\n",
       "      <td>0.274456</td>\n",
       "      <td>-0.080305</td>\n",
       "      <td>-0.016278</td>\n",
       "    </tr>\n",
       "    <tr>\n",
       "      <th>4</th>\n",
       "      <td>-0.152133</td>\n",
       "      <td>-1.687738</td>\n",
       "      <td>-0.658694</td>\n",
       "      <td>-0.162884</td>\n",
       "      <td>1.137482</td>\n",
       "      <td>1.174591</td>\n",
       "      <td>-0.608594</td>\n",
       "      <td>-0.358018</td>\n",
       "      <td>-0.211737</td>\n",
       "      <td>-0.131775</td>\n",
       "      <td>-0.095667</td>\n",
       "      <td>-0.053948</td>\n",
       "      <td>-0.533972</td>\n",
       "      <td>-0.747884</td>\n",
       "      <td>-0.180773</td>\n",
       "      <td>0.012203</td>\n",
       "      <td>-0.476209</td>\n",
       "      <td>-0.423469</td>\n",
       "    </tr>\n",
       "  </tbody>\n",
       "</table>\n",
       "</div>"
      ],
      "text/plain": [
       "   Location_Feature_1  Location_Feature_2  Location_Feature_3  \\\n",
       "0           -0.942852            0.155271           -0.658694   \n",
       "1            0.111439            1.222276           -0.454447   \n",
       "2            1.534733            1.416277            1.179528   \n",
       "3           -0.942852            0.155271           -0.658694   \n",
       "4           -0.152133           -1.687738           -0.658694   \n",
       "\n",
       "   Location_Feature_4  Cuisines_Feature_1  Cuisines_Feature_2  \\\n",
       "0           -0.162884           -0.671448           -1.102410   \n",
       "1            0.784531           -1.286485            1.922748   \n",
       "2           -0.162884            1.390733           -1.102410   \n",
       "3           -0.162884            1.390733            1.304705   \n",
       "4           -0.162884            1.137482            1.174591   \n",
       "\n",
       "   Cuisines_Feature_3  Cuisines_Feature_4  Cuisines_Feature_5  \\\n",
       "0           -0.608594           -0.358018           -0.211737   \n",
       "1           -0.608594           -0.358018           -0.211737   \n",
       "2           -0.608594           -0.358018           -0.211737   \n",
       "3            0.562736           -0.358018           -0.211737   \n",
       "4           -0.608594           -0.358018           -0.211737   \n",
       "\n",
       "   Cuisines_Feature_6  Cuisines_Feature_7  Cuisines_Feature_8  Restaurant  \\\n",
       "0           -0.131775           -0.095667           -0.053948   -0.733454   \n",
       "1           -0.131775           -0.095667           -0.053948   -0.259800   \n",
       "2           -0.131775           -0.095667           -0.053948    0.811373   \n",
       "3           -0.131775           -0.095667           -0.053948   -0.873092   \n",
       "4           -0.131775           -0.095667           -0.053948   -0.533972   \n",
       "\n",
       "   Average_Cost_Cleaned  Minimum_Order_Cleaned  Rating_Cleaned  Votes_Cleaned  \\\n",
       "0             -0.747884              -0.180773        0.047502       0.070284   \n",
       "1             -0.747884              -0.180773       -0.774554      -0.512642   \n",
       "2             -0.009648              -0.180773       -1.036806      -0.493211   \n",
       "3             -0.009648              -0.180773        0.274456      -0.080305   \n",
       "4             -0.747884              -0.180773        0.012203      -0.476209   \n",
       "\n",
       "   Reviews_Cleaned  \n",
       "0         0.048872  \n",
       "1        -0.439756  \n",
       "2        -0.435684  \n",
       "3        -0.016278  \n",
       "4        -0.423469  "
      ]
     },
     "execution_count": 74,
     "metadata": {},
     "output_type": "execute_result"
    }
   ],
   "source": [
    "test_sample.head()"
   ]
  },
  {
   "cell_type": "markdown",
   "metadata": {
    "colab_type": "text",
    "id": "cVLi3tWF77GQ"
   },
   "source": [
    "##Modeling"
   ]
  },
  {
   "cell_type": "markdown",
   "metadata": {
    "colab_type": "text",
    "id": "r7mSn15PcLBy"
   },
   "source": [
    "Finally, we are ready for modeling. We will split the training set into training and validation sets.\n",
    "\n",
    "We will then use the training set to train and validation set to test the performance of the model.\n",
    "\n",
    "Finally we will use the given test set for predicting.\n",
    "\n",
    "\n"
   ]
  },
  {
   "cell_type": "code",
   "execution_count": 75,
   "metadata": {
    "colab": {},
    "colab_type": "code",
    "id": "GyvnZnyAcmTF"
   },
   "outputs": [],
   "source": [
    "from sklearn.model_selection import train_test_split\n",
    "\n",
    "train, val = train_test_split(train_sample, test_size = 0.1, random_state = 123)"
   ]
  },
  {
   "cell_type": "code",
   "execution_count": 76,
   "metadata": {
    "colab": {},
    "colab_type": "code",
    "id": "moR5oT7H8Gj2"
   },
   "outputs": [],
   "source": [
    "X_train = train[cols[:-1]]\n",
    "Y_train = train[cols[-1]]\n",
    "\n",
    "X_Val = val[cols[:-1]]\n",
    "Y_Val = val[cols[-1]]\n",
    "\n",
    "X_test = test_sample[cols[:-1]]"
   ]
  },
  {
   "cell_type": "code",
   "execution_count": 77,
   "metadata": {
    "colab": {
     "base_uri": "https://localhost:8080/",
     "height": 140
    },
    "colab_type": "code",
    "id": "nsciW_cU7ak5",
    "outputId": "8e442d4e-cb7d-4aed-b7ae-7acbf11d8694"
   },
   "outputs": [
    {
     "ename": "ValueError",
     "evalue": "Invalid classes inferred from unique values of `y`.  Expected: [0 1 2 3 4 5 6], got ['10 minutes' '120 minutes' '20 minutes' '30 minutes' '45 minutes'\n '65 minutes' '80 minutes']",
     "output_type": "error",
     "traceback": [
      "\u001b[1;31m---------------------------------------------------------------------------\u001b[0m",
      "\u001b[1;31mValueError\u001b[0m                                Traceback (most recent call last)",
      "Cell \u001b[1;32mIn[77], line 5\u001b[0m\n\u001b[0;32m      1\u001b[0m \u001b[38;5;28;01mfrom\u001b[39;00m \u001b[38;5;21;01mxgboost\u001b[39;00m \u001b[38;5;28;01mimport\u001b[39;00m XGBClassifier\n\u001b[0;32m      3\u001b[0m xgb \u001b[38;5;241m=\u001b[39m XGBClassifier()\n\u001b[1;32m----> 5\u001b[0m xgb\u001b[38;5;241m.\u001b[39mfit(X_train,Y_train)\n",
      "File \u001b[1;32m~\\anaconda3\\Lib\\site-packages\\xgboost\\core.py:575\u001b[0m, in \u001b[0;36m_deprecate_positional_args.<locals>.inner_f\u001b[1;34m(*args, **kwargs)\u001b[0m\n\u001b[0;32m    573\u001b[0m \u001b[38;5;28;01mfor\u001b[39;00m k, arg \u001b[38;5;129;01min\u001b[39;00m \u001b[38;5;28mzip\u001b[39m(sig\u001b[38;5;241m.\u001b[39mparameters, args):\n\u001b[0;32m    574\u001b[0m     kwargs[k] \u001b[38;5;241m=\u001b[39m arg\n\u001b[1;32m--> 575\u001b[0m \u001b[38;5;28;01mreturn\u001b[39;00m f(\u001b[38;5;241m*\u001b[39m\u001b[38;5;241m*\u001b[39mkwargs)\n",
      "File \u001b[1;32m~\\anaconda3\\Lib\\site-packages\\xgboost\\sklearn.py:1357\u001b[0m, in \u001b[0;36mXGBClassifier.fit\u001b[1;34m(self, X, y, sample_weight, base_margin, eval_set, eval_metric, early_stopping_rounds, verbose, xgb_model, sample_weight_eval_set, base_margin_eval_set, feature_weights, callbacks)\u001b[0m\n\u001b[0;32m   1352\u001b[0m     expected_classes \u001b[38;5;241m=\u001b[39m np\u001b[38;5;241m.\u001b[39marange(\u001b[38;5;28mself\u001b[39m\u001b[38;5;241m.\u001b[39mn_classes_)\n\u001b[0;32m   1353\u001b[0m \u001b[38;5;28;01mif\u001b[39;00m (\n\u001b[0;32m   1354\u001b[0m     \u001b[38;5;28mself\u001b[39m\u001b[38;5;241m.\u001b[39mclasses_\u001b[38;5;241m.\u001b[39mshape \u001b[38;5;241m!=\u001b[39m expected_classes\u001b[38;5;241m.\u001b[39mshape\n\u001b[0;32m   1355\u001b[0m     \u001b[38;5;129;01mor\u001b[39;00m \u001b[38;5;129;01mnot\u001b[39;00m (\u001b[38;5;28mself\u001b[39m\u001b[38;5;241m.\u001b[39mclasses_ \u001b[38;5;241m==\u001b[39m expected_classes)\u001b[38;5;241m.\u001b[39mall()\n\u001b[0;32m   1356\u001b[0m ):\n\u001b[1;32m-> 1357\u001b[0m     \u001b[38;5;28;01mraise\u001b[39;00m \u001b[38;5;167;01mValueError\u001b[39;00m(\n\u001b[0;32m   1358\u001b[0m         \u001b[38;5;124mf\u001b[39m\u001b[38;5;124m\"\u001b[39m\u001b[38;5;124mInvalid classes inferred from unique values of `y`.  \u001b[39m\u001b[38;5;124m\"\u001b[39m\n\u001b[0;32m   1359\u001b[0m         \u001b[38;5;124mf\u001b[39m\u001b[38;5;124m\"\u001b[39m\u001b[38;5;124mExpected: \u001b[39m\u001b[38;5;132;01m{\u001b[39;00mexpected_classes\u001b[38;5;132;01m}\u001b[39;00m\u001b[38;5;124m, got \u001b[39m\u001b[38;5;132;01m{\u001b[39;00m\u001b[38;5;28mself\u001b[39m\u001b[38;5;241m.\u001b[39mclasses_\u001b[38;5;132;01m}\u001b[39;00m\u001b[38;5;124m\"\u001b[39m\n\u001b[0;32m   1360\u001b[0m     )\n\u001b[0;32m   1362\u001b[0m params \u001b[38;5;241m=\u001b[39m \u001b[38;5;28mself\u001b[39m\u001b[38;5;241m.\u001b[39mget_xgb_params()\n\u001b[0;32m   1364\u001b[0m \u001b[38;5;28;01mif\u001b[39;00m \u001b[38;5;28mcallable\u001b[39m(\u001b[38;5;28mself\u001b[39m\u001b[38;5;241m.\u001b[39mobjective):\n",
      "\u001b[1;31mValueError\u001b[0m: Invalid classes inferred from unique values of `y`.  Expected: [0 1 2 3 4 5 6], got ['10 minutes' '120 minutes' '20 minutes' '30 minutes' '45 minutes'\n '65 minutes' '80 minutes']"
     ]
    }
   ],
   "source": [
    "from xgboost import XGBClassifier\n",
    "\n",
    "xgb = XGBClassifier()\n",
    "\n",
    "xgb.fit(X_train,Y_train)"
   ]
  },
  {
   "cell_type": "code",
   "execution_count": null,
   "metadata": {
    "colab": {
     "base_uri": "https://localhost:8080/",
     "height": 34
    },
    "colab_type": "code",
    "id": "0hBSBM_y76WT",
    "outputId": "ccd83863-a0f8-4ebb-d19f-48265af64416"
   },
   "outputs": [],
   "source": [
    "xgb.score(X_Val,Y_Val)"
   ]
  },
  {
   "cell_type": "markdown",
   "metadata": {
    "colab_type": "text",
    "id": "fJ6fmF5FiDGi"
   },
   "source": [
    "\n",
    "---\n",
    "\n",
    "This is a baseline model. Fine tuning the model can give better results. Also, tryout different algorithms to find the best."
   ]
  },
  {
   "cell_type": "code",
   "execution_count": null,
   "metadata": {
    "colab": {},
    "colab_type": "code",
    "id": "ZNacLwWr6Lpo"
   },
   "outputs": [],
   "source": [
    "from sklearn.tree import DecisionTreeClassifier\n",
    "clf = DecisionTreeClassifier(random_state=0)"
   ]
  },
  {
   "cell_type": "code",
   "execution_count": null,
   "metadata": {
    "colab": {
     "base_uri": "https://localhost:8080/",
     "height": 34
    },
    "colab_type": "code",
    "id": "rpCQpSlh6Lpr",
    "outputId": "c3e596fa-f1e7-462e-9f84-70111b16ecbf"
   },
   "outputs": [],
   "source": [
    "clf.fit(X_train,Y_train)\n",
    "clf.score(X_Val,Y_Val)"
   ]
  },
  {
   "cell_type": "code",
   "execution_count": null,
   "metadata": {
    "colab": {},
    "colab_type": "code",
    "id": "oWy-MjbV6Lpy"
   },
   "outputs": [],
   "source": [
    "from sklearn.ensemble import RandomForestClassifier\n",
    "Rforest = RandomForestClassifier()"
   ]
  },
  {
   "cell_type": "code",
   "execution_count": null,
   "metadata": {
    "colab": {
     "base_uri": "https://localhost:8080/",
     "height": 34
    },
    "colab_type": "code",
    "id": "8BFDn5Nt6Lp0",
    "outputId": "f8e13d6a-bfe4-4d50-dcfd-d506d7a87187"
   },
   "outputs": [],
   "source": [
    "Rforest.fit(X_train,Y_train)\n",
    "Rforest.score(X_Val,Y_Val)"
   ]
  },
  {
   "cell_type": "code",
   "execution_count": null,
   "metadata": {
    "colab": {},
    "colab_type": "code",
    "id": "cjYfsDP36Lp3"
   },
   "outputs": [],
   "source": [
    "import warnings\n",
    "warnings.filterwarnings('ignore')"
   ]
  },
  {
   "cell_type": "code",
   "execution_count": null,
   "metadata": {
    "colab": {},
    "colab_type": "code",
    "id": "JaVPuOYV8yRC"
   },
   "outputs": [],
   "source": [
    "Predictions = Rforest.predict(X_test)"
   ]
  },
  {
   "cell_type": "code",
   "execution_count": null,
   "metadata": {
    "colab": {},
    "colab_type": "code",
    "id": "3DSsS73R9C5k"
   },
   "outputs": [],
   "source": [
    "pd.DataFrame(Predictions, columns = ['Delivery_Time']).to_excel(\"/GD/My Drive/Colab Notebooks/Food Delivery/Participants Data/Submission.xlsx\", index = False)"
   ]
  }
 ],
 "metadata": {
  "accelerator": "GPU",
  "colab": {
   "collapsed_sections": [
    "dBV2JLd1ALQH",
    "UceqrG8LAFr_",
    "_YYJ_HI9A1qg",
    "pwjvNSkCBLC6",
    "Hjn_pdlpBD8w",
    "u1kumctM5Jf5",
    "SCbszxL0-NPg",
    "wRVErMt0HBFp",
    "tQXtDXaONwjx",
    "1R2AgdQg5OKR"
   ],
   "name": "Predicting_Food_Delivery_Time.ipynb",
   "provenance": []
  },
  "kernelspec": {
   "display_name": "Python 3 (ipykernel)",
   "language": "python",
   "name": "python3"
  },
  "language_info": {
   "codemirror_mode": {
    "name": "ipython",
    "version": 3
   },
   "file_extension": ".py",
   "mimetype": "text/x-python",
   "name": "python",
   "nbconvert_exporter": "python",
   "pygments_lexer": "ipython3",
   "version": "3.11.5"
  }
 },
 "nbformat": 4,
 "nbformat_minor": 4
}
